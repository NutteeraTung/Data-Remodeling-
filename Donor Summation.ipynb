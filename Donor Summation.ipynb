{
 "cells": [
  {
   "cell_type": "markdown",
   "id": "db5c19c1",
   "metadata": {},
   "source": [
    "# Donor counting"
   ]
  },
  {
   "cell_type": "markdown",
   "id": "4e4c2225",
   "metadata": {},
   "source": [
    "The number of donor's household supporting"
   ]
  },
  {
   "cell_type": "code",
   "execution_count": 11,
   "id": "f5a6e494",
   "metadata": {},
   "outputs": [],
   "source": [
    "import numpy as np\n",
    "import matplotlib.pyplot as plt\n",
    "import pandas as pd\n",
    "import seaborn as sns"
   ]
  },
  {
   "cell_type": "code",
   "execution_count": 12,
   "id": "0e839776",
   "metadata": {},
   "outputs": [
    {
     "data": {
      "text/html": [
       "<div>\n",
       "<style scoped>\n",
       "    .dataframe tbody tr th:only-of-type {\n",
       "        vertical-align: middle;\n",
       "    }\n",
       "\n",
       "    .dataframe tbody tr th {\n",
       "        vertical-align: top;\n",
       "    }\n",
       "\n",
       "    .dataframe thead th {\n",
       "        text-align: right;\n",
       "    }\n",
       "</style>\n",
       "<table border=\"1\" class=\"dataframe\">\n",
       "  <thead>\n",
       "    <tr style=\"text-align: right;\">\n",
       "      <th></th>\n",
       "      <th>Unnamed: 0</th>\n",
       "      <th>Family name</th>\n",
       "      <th>2018</th>\n",
       "      <th>2019</th>\n",
       "      <th>2020</th>\n",
       "      <th>2021</th>\n",
       "      <th>2022</th>\n",
       "      <th>2023</th>\n",
       "      <th>2024</th>\n",
       "      <th>2025</th>\n",
       "      <th>Donor</th>\n",
       "    </tr>\n",
       "  </thead>\n",
       "  <tbody>\n",
       "    <tr>\n",
       "      <th>0</th>\n",
       "      <td>180001</td>\n",
       "      <td>NGUYEN THI MY LINH</td>\n",
       "      <td>7.9</td>\n",
       "      <td>10.8</td>\n",
       "      <td>13.8</td>\n",
       "      <td>15.2</td>\n",
       "      <td>15.15</td>\n",
       "      <td>-</td>\n",
       "      <td>-</td>\n",
       "      <td>NaN</td>\n",
       "      <td>BS</td>\n",
       "    </tr>\n",
       "    <tr>\n",
       "      <th>1</th>\n",
       "      <td>180002</td>\n",
       "      <td>TRAN NGOC TUYEN</td>\n",
       "      <td>8.8</td>\n",
       "      <td>12.83</td>\n",
       "      <td>14.1</td>\n",
       "      <td>15.8</td>\n",
       "      <td>15.2</td>\n",
       "      <td>-</td>\n",
       "      <td>-</td>\n",
       "      <td>NaN</td>\n",
       "      <td>BS</td>\n",
       "    </tr>\n",
       "    <tr>\n",
       "      <th>2</th>\n",
       "      <td>180003</td>\n",
       "      <td>NGUYEN THANH TRUC</td>\n",
       "      <td>9.75</td>\n",
       "      <td>11.92</td>\n",
       "      <td>15.05</td>\n",
       "      <td>14.2</td>\n",
       "      <td>15.1</td>\n",
       "      <td>-</td>\n",
       "      <td>-</td>\n",
       "      <td>NaN</td>\n",
       "      <td>BS</td>\n",
       "    </tr>\n",
       "    <tr>\n",
       "      <th>3</th>\n",
       "      <td>180005</td>\n",
       "      <td>DANG THU THAO</td>\n",
       "      <td>8.9</td>\n",
       "      <td>-</td>\n",
       "      <td>-</td>\n",
       "      <td>-</td>\n",
       "      <td>-</td>\n",
       "      <td>-</td>\n",
       "      <td>-</td>\n",
       "      <td>NaN</td>\n",
       "      <td>BS</td>\n",
       "    </tr>\n",
       "    <tr>\n",
       "      <th>4</th>\n",
       "      <td>180006</td>\n",
       "      <td>TRAN THI DIEM</td>\n",
       "      <td>6.6</td>\n",
       "      <td>9.8</td>\n",
       "      <td>10.8</td>\n",
       "      <td>14.48</td>\n",
       "      <td>14.55</td>\n",
       "      <td>-</td>\n",
       "      <td>-</td>\n",
       "      <td>NaN</td>\n",
       "      <td>BS</td>\n",
       "    </tr>\n",
       "  </tbody>\n",
       "</table>\n",
       "</div>"
      ],
      "text/plain": [
       "   Unnamed: 0         Family name  2018   2019   2020   2021   2022 2023 2024  \\\n",
       "0      180001  NGUYEN THI MY LINH   7.9   10.8   13.8   15.2  15.15    -    -   \n",
       "1      180002     TRAN NGOC TUYEN   8.8  12.83   14.1   15.8   15.2    -    -   \n",
       "2      180003   NGUYEN THANH TRUC  9.75  11.92  15.05   14.2   15.1    -    -   \n",
       "3      180005       DANG THU THAO   8.9      -      -      -      -    -    -   \n",
       "4      180006       TRAN THI DIEM   6.6    9.8   10.8  14.48  14.55    -    -   \n",
       "\n",
       "  2025 Donor  \n",
       "0  NaN    BS  \n",
       "1  NaN    BS  \n",
       "2  NaN    BS  \n",
       "3  NaN    BS  \n",
       "4  NaN    BS  "
      ]
     },
     "execution_count": 12,
     "metadata": {},
     "output_type": "execute_result"
    }
   ],
   "source": [
    "df = pd.read_excel(r'C:\\Users\\panda\\OneDrive\\Desktop\\Bongsen\\remodeling.xlsx',sheet_name =\"Summation\")\n",
    "df = pd.DataFrame(df)\n",
    "df.head()"
   ]
  },
  {
   "cell_type": "code",
   "execution_count": 15,
   "id": "6dcfba4c",
   "metadata": {},
   "outputs": [
    {
     "data": {
      "text/plain": [
       "14"
      ]
     },
     "execution_count": 15,
     "metadata": {},
     "output_type": "execute_result"
    }
   ],
   "source": [
    "df['Donor'].isnull().sum()"
   ]
  },
  {
   "cell_type": "code",
   "execution_count": 16,
   "id": "a4b76d31",
   "metadata": {},
   "outputs": [
    {
     "data": {
      "text/plain": [
       "0"
      ]
     },
     "execution_count": 16,
     "metadata": {},
     "output_type": "execute_result"
    }
   ],
   "source": [
    "df['Family name'].isnull().sum()"
   ]
  },
  {
   "cell_type": "code",
   "execution_count": 18,
   "id": "6cb8f608",
   "metadata": {},
   "outputs": [],
   "source": [
    "df['Donor'] = df['Donor'].fillna('-')"
   ]
  },
  {
   "cell_type": "code",
   "execution_count": 19,
   "id": "e60fb7fe",
   "metadata": {},
   "outputs": [
    {
     "data": {
      "text/plain": [
       "0"
      ]
     },
     "execution_count": 19,
     "metadata": {},
     "output_type": "execute_result"
    }
   ],
   "source": [
    "df['Donor'].isnull().sum()"
   ]
  },
  {
   "cell_type": "code",
   "execution_count": 22,
   "id": "79921e8a",
   "metadata": {},
   "outputs": [
    {
     "name": "stdout",
     "output_type": "stream",
     "text": [
      "The number of donator is  11\n",
      "The number of household is 217\n",
      "------------------------------------ \n",
      "\n",
      "The number of recipient of BS is  72\n",
      "The number of recipient of CTG is  83\n",
      "The number of recipient of Hanh Nguyen is  4\n",
      "The number of recipient of KELLY VO is  6\n",
      "The number of recipient of Nguyen Libero is  6\n",
      "The number of recipient of REAL is  4\n",
      "The number of recipient of SAL is  18\n",
      "The number of recipient of TRG is  8\n",
      "The number of recipient of MK VIME is  2\n",
      "The blank information of donor name is 14\n",
      "The Total is 217\n"
     ]
    }
   ],
   "source": [
    "#count the number of donor\n",
    "donors = df['Donor']\n",
    "donor_names = np.array(['BS','CTG','Hanh Nguyen','KELLY VO','Nguyen Libero','REAL','Real','SAL','TRG','MK VIME','-'])\n",
    "count_bs = 0\n",
    "count_ctg = 0\n",
    "count_nguyen = 0\n",
    "count_kelly = 0\n",
    "count_libero = 0\n",
    "count_real  = 0\n",
    "count_sal =0\n",
    "count_trg = 0\n",
    "count_mk_vime = 0\n",
    "count_blank = 0\n",
    "for i in donors:\n",
    "    if i == donor_names[0]:\n",
    "        count_bs +=1\n",
    "    elif i == donor_names[1]:\n",
    "        count_ctg +=1\n",
    "    elif i == donor_names[2]:\n",
    "        count_nguyen +=1\n",
    "    elif i == donor_names[3]:\n",
    "        count_kelly +=1\n",
    "    elif i == donor_names[4]:\n",
    "        count_libero +=1\n",
    "    elif i == donor_names[5] or i == donor_names[6]:\n",
    "        count_real +=1\n",
    "    elif i == donor_names[7]:\n",
    "        count_sal +=1\n",
    "    elif i == donor_names[8]:\n",
    "        count_trg +=1\n",
    "    elif i == donor_names[9]:\n",
    "        count_mk_vime +=1\n",
    "    elif i == donor_names[10]:\n",
    "        count_blank +=1\n",
    "print(\"The number of donator is \",len(donor_names))\n",
    "print(\"The number of household is\",len(df['Family name']))\n",
    "print(\"------------------------------------ \\n\")\n",
    "print(\"The number of recipient of BS is \",count_bs)\n",
    "print(\"The number of recipient of CTG is \",count_ctg)\n",
    "print(\"The number of recipient of Hanh Nguyen is \",count_nguyen)\n",
    "print(\"The number of recipient of KELLY VO is \",count_kelly)\n",
    "print(\"The number of recipient of Nguyen Libero is \",count_libero)\n",
    "print(\"The number of recipient of REAL is \",count_real)\n",
    "print(\"The number of recipient of SAL is \",count_sal)\n",
    "print(\"The number of recipient of TRG is \",count_trg)\n",
    "print(\"The number of recipient of MK VIME is \",count_mk_vime)\n",
    "print(\"The blank information of donor name is\",count_blank)\n",
    "print(\"The Total is\",count_bs+count_ctg+count_nguyen+count_kelly+count_libero+count_real+count_sal+count_trg+count_mk_vime+count_blank)"
   ]
  },
  {
   "cell_type": "markdown",
   "id": "399489cd",
   "metadata": {},
   "source": [
    "# Search the name of Donor to find the family name "
   ]
  },
  {
   "cell_type": "code",
   "execution_count": 23,
   "id": "7f96279f",
   "metadata": {},
   "outputs": [
    {
     "name": "stdout",
     "output_type": "stream",
     "text": [
      "Enter the name here: -\n",
      "The number of recipient is 14\n"
     ]
    },
    {
     "data": {
      "text/html": [
       "<div>\n",
       "<style scoped>\n",
       "    .dataframe tbody tr th:only-of-type {\n",
       "        vertical-align: middle;\n",
       "    }\n",
       "\n",
       "    .dataframe tbody tr th {\n",
       "        vertical-align: top;\n",
       "    }\n",
       "\n",
       "    .dataframe thead th {\n",
       "        text-align: right;\n",
       "    }\n",
       "</style>\n",
       "<table border=\"1\" class=\"dataframe\">\n",
       "  <thead>\n",
       "    <tr style=\"text-align: right;\">\n",
       "      <th></th>\n",
       "      <th>Donor</th>\n",
       "      <th>Family name</th>\n",
       "    </tr>\n",
       "  </thead>\n",
       "  <tbody>\n",
       "    <tr>\n",
       "      <th>19</th>\n",
       "      <td>-</td>\n",
       "      <td>LE THI LINH</td>\n",
       "    </tr>\n",
       "    <tr>\n",
       "      <th>22</th>\n",
       "      <td>-</td>\n",
       "      <td>HUYNH THI PHUONG</td>\n",
       "    </tr>\n",
       "    <tr>\n",
       "      <th>25</th>\n",
       "      <td>-</td>\n",
       "      <td>VO THI QUYEN TRANG</td>\n",
       "    </tr>\n",
       "    <tr>\n",
       "      <th>47</th>\n",
       "      <td>-</td>\n",
       "      <td>NGUYEN THANH LAM</td>\n",
       "    </tr>\n",
       "    <tr>\n",
       "      <th>49</th>\n",
       "      <td>-</td>\n",
       "      <td>VO THI KIM HOA</td>\n",
       "    </tr>\n",
       "    <tr>\n",
       "      <th>56</th>\n",
       "      <td>-</td>\n",
       "      <td>VO THI MY HANH</td>\n",
       "    </tr>\n",
       "    <tr>\n",
       "      <th>107</th>\n",
       "      <td>-</td>\n",
       "      <td>VUONG KIM SON</td>\n",
       "    </tr>\n",
       "    <tr>\n",
       "      <th>137</th>\n",
       "      <td>-</td>\n",
       "      <td>VO THI CAM HONG</td>\n",
       "    </tr>\n",
       "    <tr>\n",
       "      <th>152</th>\n",
       "      <td>-</td>\n",
       "      <td>VO THI LUA</td>\n",
       "    </tr>\n",
       "    <tr>\n",
       "      <th>169</th>\n",
       "      <td>-</td>\n",
       "      <td>VO THI QUYET</td>\n",
       "    </tr>\n",
       "    <tr>\n",
       "      <th>174</th>\n",
       "      <td>-</td>\n",
       "      <td>VO THI MY HONG</td>\n",
       "    </tr>\n",
       "    <tr>\n",
       "      <th>191</th>\n",
       "      <td>-</td>\n",
       "      <td>VO THI NHI</td>\n",
       "    </tr>\n",
       "    <tr>\n",
       "      <th>198</th>\n",
       "      <td>-</td>\n",
       "      <td>VO THI XUYEN</td>\n",
       "    </tr>\n",
       "    <tr>\n",
       "      <th>207</th>\n",
       "      <td>-</td>\n",
       "      <td>VO THI NGA</td>\n",
       "    </tr>\n",
       "  </tbody>\n",
       "</table>\n",
       "</div>"
      ],
      "text/plain": [
       "    Donor         Family name\n",
       "19      -         LE THI LINH\n",
       "22      -    HUYNH THI PHUONG\n",
       "25      -  VO THI QUYEN TRANG\n",
       "47      -    NGUYEN THANH LAM\n",
       "49      -      VO THI KIM HOA\n",
       "56      -      VO THI MY HANH\n",
       "107     -       VUONG KIM SON\n",
       "137     -     VO THI CAM HONG\n",
       "152     -          VO THI LUA\n",
       "169     -        VO THI QUYET\n",
       "174     -      VO THI MY HONG\n",
       "191     -          VO THI NHI\n",
       "198     -        VO THI XUYEN\n",
       "207     -          VO THI NGA"
      ]
     },
     "execution_count": 23,
     "metadata": {},
     "output_type": "execute_result"
    }
   ],
   "source": [
    "donor_name = str(input(\"Enter the name here: \"))\n",
    "\n",
    "def find_family (donor_name):\n",
    "\n",
    "    group_name = {\n",
    "        'Donor' : df['Donor'],\n",
    "        'Family name' : df['Family name'] }\n",
    "    data_frame = pd.DataFrame(group_name, columns = ['Donor','Family name'])\n",
    "\n",
    "    filter_result = data_frame[data_frame['Donor'] == donor_name]\n",
    "    range = len(filter_result)\n",
    "    print(\"The number of recipient is\",range)\n",
    "    return(filter_result.head(range))\n",
    "\n",
    "find_family(donor_name)"
   ]
  },
  {
   "cell_type": "code",
   "execution_count": null,
   "id": "d6419131",
   "metadata": {},
   "outputs": [],
   "source": []
  }
 ],
 "metadata": {
  "kernelspec": {
   "display_name": "Python 3",
   "language": "python",
   "name": "python3"
  },
  "language_info": {
   "codemirror_mode": {
    "name": "ipython",
    "version": 3
   },
   "file_extension": ".py",
   "mimetype": "text/x-python",
   "name": "python",
   "nbconvert_exporter": "python",
   "pygments_lexer": "ipython3",
   "version": "3.8.8"
  }
 },
 "nbformat": 4,
 "nbformat_minor": 5
}
