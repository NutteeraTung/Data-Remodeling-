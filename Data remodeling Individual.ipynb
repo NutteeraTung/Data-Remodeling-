{
 "cells": [
  {
   "cell_type": "code",
   "execution_count": 1,
   "id": "92f8a6e9",
   "metadata": {},
   "outputs": [
    {
     "name": "stderr",
     "output_type": "stream",
     "text": [
      "C:\\Users\\panda\\anaconda3\\lib\\site-packages\\scipy\\__init__.py:138: UserWarning: A NumPy version >=1.16.5 and <1.23.0 is required for this version of SciPy (detected version 1.24.4)\n",
      "  warnings.warn(f\"A NumPy version >={np_minversion} and <{np_maxversion} is required for this version of \"\n"
     ]
    }
   ],
   "source": [
    "import pandas as pd\n",
    "import numpy as np\n",
    "import matplotlib.pyplot as plt\n",
    "import seaborn as sns\n",
    "from colorama import *"
   ]
  },
  {
   "cell_type": "code",
   "execution_count": 56,
   "id": "826eae2a",
   "metadata": {
    "scrolled": true
   },
   "outputs": [
    {
     "data": {
      "text/html": [
       "<div>\n",
       "<style scoped>\n",
       "    .dataframe tbody tr th:only-of-type {\n",
       "        vertical-align: middle;\n",
       "    }\n",
       "\n",
       "    .dataframe tbody tr th {\n",
       "        vertical-align: top;\n",
       "    }\n",
       "\n",
       "    .dataframe thead th {\n",
       "        text-align: right;\n",
       "    }\n",
       "</style>\n",
       "<table border=\"1\" class=\"dataframe\">\n",
       "  <thead>\n",
       "    <tr style=\"text-align: right;\">\n",
       "      <th></th>\n",
       "      <th>Code</th>\n",
       "      <th>Family name</th>\n",
       "      <th>Year</th>\n",
       "      <th>Family member</th>\n",
       "      <th>Average VND</th>\n",
       "      <th>Total Human Capital</th>\n",
       "      <th>Total Financial Capital</th>\n",
       "      <th>Total Social capital</th>\n",
       "      <th>Total Physical Capital</th>\n",
       "      <th>Total natural score</th>\n",
       "    </tr>\n",
       "  </thead>\n",
       "  <tbody>\n",
       "    <tr>\n",
       "      <th>0</th>\n",
       "      <td>190002</td>\n",
       "      <td>BUI THI BAO XUYEN</td>\n",
       "      <td>2019</td>\n",
       "      <td>7</td>\n",
       "      <td>847000.0</td>\n",
       "      <td>5.0</td>\n",
       "      <td>3</td>\n",
       "      <td>0.70</td>\n",
       "      <td>5</td>\n",
       "      <td>4.0</td>\n",
       "    </tr>\n",
       "    <tr>\n",
       "      <th>1</th>\n",
       "      <td>190002</td>\n",
       "      <td>BUI THI BAO XUYEN</td>\n",
       "      <td>2020</td>\n",
       "      <td>7</td>\n",
       "      <td>1194000.0</td>\n",
       "      <td>5.0</td>\n",
       "      <td>4</td>\n",
       "      <td>1.79</td>\n",
       "      <td>6</td>\n",
       "      <td>4.0</td>\n",
       "    </tr>\n",
       "    <tr>\n",
       "      <th>2</th>\n",
       "      <td>190002</td>\n",
       "      <td>BUI THI BAO XUYEN</td>\n",
       "      <td>2021</td>\n",
       "      <td>7</td>\n",
       "      <td>1000000.0</td>\n",
       "      <td>5.0</td>\n",
       "      <td>4</td>\n",
       "      <td>1.88</td>\n",
       "      <td>6</td>\n",
       "      <td>4.0</td>\n",
       "    </tr>\n",
       "    <tr>\n",
       "      <th>3</th>\n",
       "      <td>230019</td>\n",
       "      <td>BUI THI CAM</td>\n",
       "      <td>2023</td>\n",
       "      <td>3</td>\n",
       "      <td>800000.0</td>\n",
       "      <td>1.0</td>\n",
       "      <td>2</td>\n",
       "      <td>2.58</td>\n",
       "      <td>3</td>\n",
       "      <td>1.0</td>\n",
       "    </tr>\n",
       "    <tr>\n",
       "      <th>4</th>\n",
       "      <td>220002</td>\n",
       "      <td>BUI THI CHINH</td>\n",
       "      <td>2022</td>\n",
       "      <td>3</td>\n",
       "      <td>1472000.0</td>\n",
       "      <td>3.0</td>\n",
       "      <td>2</td>\n",
       "      <td>2.60</td>\n",
       "      <td>4</td>\n",
       "      <td>2.0</td>\n",
       "    </tr>\n",
       "  </tbody>\n",
       "</table>\n",
       "</div>"
      ],
      "text/plain": [
       "     Code        Family name  Year  Family member  Average VND  \\\n",
       "0  190002  BUI THI BAO XUYEN  2019              7     847000.0   \n",
       "1  190002  BUI THI BAO XUYEN  2020              7    1194000.0   \n",
       "2  190002  BUI THI BAO XUYEN  2021              7    1000000.0   \n",
       "3  230019        BUI THI CAM  2023              3     800000.0   \n",
       "4  220002      BUI THI CHINH  2022              3    1472000.0   \n",
       "\n",
       "   Total Human Capital  Total Financial Capital  Total Social capital  \\\n",
       "0                  5.0                        3                  0.70   \n",
       "1                  5.0                        4                  1.79   \n",
       "2                  5.0                        4                  1.88   \n",
       "3                  1.0                        2                  2.58   \n",
       "4                  3.0                        2                  2.60   \n",
       "\n",
       "   Total Physical Capital  Total natural score  \n",
       "0                       5                  4.0  \n",
       "1                       6                  4.0  \n",
       "2                       6                  4.0  \n",
       "3                       3                  1.0  \n",
       "4                       4                  2.0  "
      ]
     },
     "execution_count": 56,
     "metadata": {},
     "output_type": "execute_result"
    }
   ],
   "source": [
    "df = pd.read_excel(r'C:\\Users\\panda\\OneDrive\\Desktop\\Bongsen\\remodeling.xlsx',sheet_name='Family data')\n",
    "df.head()"
   ]
  },
  {
   "cell_type": "code",
   "execution_count": 57,
   "id": "45ad0c4c",
   "metadata": {},
   "outputs": [],
   "source": [
    "df = pd.DataFrame(df)"
   ]
  },
  {
   "cell_type": "markdown",
   "id": "a7287cbd",
   "metadata": {},
   "source": [
    "# Call of Individual Data"
   ]
  },
  {
   "cell_type": "markdown",
   "id": "9e92e255",
   "metadata": {},
   "source": [
    "Select the Family data : DOAN THI NUOI"
   ]
  },
  {
   "cell_type": "code",
   "execution_count": 58,
   "id": "607c9d36",
   "metadata": {
    "scrolled": true
   },
   "outputs": [
    {
     "name": "stdout",
     "output_type": "stream",
     "text": [
      "Enter Family name: DOAN THI NUOI\n"
     ]
    },
    {
     "data": {
      "text/html": [
       "<div>\n",
       "<style scoped>\n",
       "    .dataframe tbody tr th:only-of-type {\n",
       "        vertical-align: middle;\n",
       "    }\n",
       "\n",
       "    .dataframe tbody tr th {\n",
       "        vertical-align: top;\n",
       "    }\n",
       "\n",
       "    .dataframe thead th {\n",
       "        text-align: right;\n",
       "    }\n",
       "</style>\n",
       "<table border=\"1\" class=\"dataframe\">\n",
       "  <thead>\n",
       "    <tr style=\"text-align: right;\">\n",
       "      <th></th>\n",
       "      <th>Family name</th>\n",
       "      <th>Year</th>\n",
       "      <th>Family member</th>\n",
       "      <th>Total Human Capital</th>\n",
       "      <th>Total Financial Capital</th>\n",
       "      <th>Total Social capital</th>\n",
       "      <th>Total Physical Capital</th>\n",
       "      <th>Total natural score</th>\n",
       "      <th>Average VND</th>\n",
       "    </tr>\n",
       "  </thead>\n",
       "  <tbody>\n",
       "    <tr>\n",
       "      <th>77</th>\n",
       "      <td>DOAN THI NUOI</td>\n",
       "      <td>2018</td>\n",
       "      <td>4</td>\n",
       "      <td>2.0</td>\n",
       "      <td>0</td>\n",
       "      <td>1.8</td>\n",
       "      <td>1</td>\n",
       "      <td>3.0</td>\n",
       "      <td>372000.0</td>\n",
       "    </tr>\n",
       "    <tr>\n",
       "      <th>78</th>\n",
       "      <td>DOAN THI NUOI</td>\n",
       "      <td>2019</td>\n",
       "      <td>5</td>\n",
       "      <td>3.0</td>\n",
       "      <td>2</td>\n",
       "      <td>1.8</td>\n",
       "      <td>3</td>\n",
       "      <td>3.0</td>\n",
       "      <td>602000.0</td>\n",
       "    </tr>\n",
       "    <tr>\n",
       "      <th>79</th>\n",
       "      <td>DOAN THI NUOI</td>\n",
       "      <td>2020</td>\n",
       "      <td>7</td>\n",
       "      <td>4.0</td>\n",
       "      <td>2</td>\n",
       "      <td>1.8</td>\n",
       "      <td>5</td>\n",
       "      <td>3.0</td>\n",
       "      <td>703000.0</td>\n",
       "    </tr>\n",
       "    <tr>\n",
       "      <th>80</th>\n",
       "      <td>DOAN THI NUOI</td>\n",
       "      <td>2021</td>\n",
       "      <td>7</td>\n",
       "      <td>4.0</td>\n",
       "      <td>2</td>\n",
       "      <td>1.9</td>\n",
       "      <td>5</td>\n",
       "      <td>3.0</td>\n",
       "      <td>722000.0</td>\n",
       "    </tr>\n",
       "    <tr>\n",
       "      <th>81</th>\n",
       "      <td>DOAN THI NUOI</td>\n",
       "      <td>2022</td>\n",
       "      <td>6</td>\n",
       "      <td>4.0</td>\n",
       "      <td>2</td>\n",
       "      <td>2.2</td>\n",
       "      <td>5</td>\n",
       "      <td>3.0</td>\n",
       "      <td>869000.0</td>\n",
       "    </tr>\n",
       "  </tbody>\n",
       "</table>\n",
       "</div>"
      ],
      "text/plain": [
       "      Family name  Year  Family member  Total Human Capital  \\\n",
       "77  DOAN THI NUOI  2018              4                  2.0   \n",
       "78  DOAN THI NUOI  2019              5                  3.0   \n",
       "79  DOAN THI NUOI  2020              7                  4.0   \n",
       "80  DOAN THI NUOI  2021              7                  4.0   \n",
       "81  DOAN THI NUOI  2022              6                  4.0   \n",
       "\n",
       "    Total Financial Capital  Total Social capital  Total Physical Capital  \\\n",
       "77                        0                   1.8                       1   \n",
       "78                        2                   1.8                       3   \n",
       "79                        2                   1.8                       5   \n",
       "80                        2                   1.9                       5   \n",
       "81                        2                   2.2                       5   \n",
       "\n",
       "    Total natural score  Average VND  \n",
       "77                  3.0     372000.0  \n",
       "78                  3.0     602000.0  \n",
       "79                  3.0     703000.0  \n",
       "80                  3.0     722000.0  \n",
       "81                  3.0     869000.0  "
      ]
     },
     "execution_count": 58,
     "metadata": {},
     "output_type": "execute_result"
    }
   ],
   "source": [
    "family_name = str(input(\"Enter Family name: \"))\n",
    "\n",
    "def search_family(family_name):\n",
    "    \n",
    "    global filter_result\n",
    "\n",
    "    name_list = df['Family name']\n",
    "    group_name = {\n",
    "        'Family name' : df['Family name'],\n",
    "        'Year' : df['Year'],\n",
    "        'Family member' : df['Family member'],\n",
    "        'Total Human Capital' : df['Total Human Capital'],\n",
    "        'Total Financial Capital' : df['Total Financial Capital'],\n",
    "        'Total Social capital' : df['Total Social capital'],\n",
    "        'Total Physical Capital' : df['Total Physical Capital'],\n",
    "        'Total natural score' : df['Total natural score'],\n",
    "        'Average VND' : df['Average VND']\n",
    "    }\n",
    "    data_frame = pd.DataFrame(group_name, columns = ['Family name','Year','Family member',\n",
    "                                                    'Total Human Capital','Total Financial Capital','Total Social capital',\n",
    "                                                    'Total Physical Capital','Total natural score','Average VND'])\n",
    "    \n",
    "    filter_result = data_frame[data_frame['Family name']== family_name]\n",
    "    range = len(filter_result)\n",
    "    return(filter_result.head(range))\n",
    "\n",
    "search_family(family_name)"
   ]
  },
  {
   "cell_type": "markdown",
   "id": "205ea5ed",
   "metadata": {},
   "source": [
    "# Working with the same rows"
   ]
  },
  {
   "cell_type": "markdown",
   "id": "989e9da0",
   "metadata": {},
   "source": [
    "alternative 1 :select the row to delete"
   ]
  },
  {
   "cell_type": "code",
   "execution_count": null,
   "id": "6e54f2bc",
   "metadata": {},
   "outputs": [],
   "source": [
    "filter_result[filter_result['Year']==2020].head() #select year that have 2 rows"
   ]
  },
  {
   "cell_type": "code",
   "execution_count": null,
   "id": "51d37829",
   "metadata": {},
   "outputs": [],
   "source": [
    "filter_result.drop(133,axis=0,inplace=True)"
   ]
  },
  {
   "cell_type": "code",
   "execution_count": null,
   "id": "71158bec",
   "metadata": {},
   "outputs": [],
   "source": [
    "filter_result.head()"
   ]
  },
  {
   "cell_type": "markdown",
   "id": "83176660",
   "metadata": {},
   "source": [
    "alternative 2:delete the ducplicate row"
   ]
  },
  {
   "cell_type": "code",
   "execution_count": null,
   "id": "fedf05ab",
   "metadata": {},
   "outputs": [],
   "source": [
    "filter_result.drop_duplicates(subset=['Family name', 'Year'], inplace=True)"
   ]
  },
  {
   "cell_type": "code",
   "execution_count": null,
   "id": "ea54cecf",
   "metadata": {
    "scrolled": true
   },
   "outputs": [],
   "source": [
    "filter_result.head()"
   ]
  },
  {
   "cell_type": "markdown",
   "id": "9479ae77",
   "metadata": {},
   "source": [
    "# Summation the capital score by year : Manually"
   ]
  },
  {
   "cell_type": "markdown",
   "id": "6811e113",
   "metadata": {},
   "source": [
    "You MUST run all the year Do not put more"
   ]
  },
  {
   "cell_type": "code",
   "execution_count": 14,
   "id": "558852d4",
   "metadata": {},
   "outputs": [
    {
     "data": {
      "text/plain": [
       "77    2018\n",
       "78    2019\n",
       "79    2020\n",
       "80    2021\n",
       "81    2022\n",
       "Name: Year, dtype: int64"
      ]
     },
     "execution_count": 14,
     "metadata": {},
     "output_type": "execute_result"
    }
   ],
   "source": [
    "filter_result['Year'].head()"
   ]
  },
  {
   "cell_type": "code",
   "execution_count": 24,
   "id": "ef0d7b4c",
   "metadata": {},
   "outputs": [
    {
     "name": "stdout",
     "output_type": "stream",
     "text": [
      "Enter focus year: 2018\n",
      "The total score in 2018 is 7.8\n",
      "Total Human Capital 2.0\n",
      "Total Financial Capital 0.0\n",
      "Total Social capital 1.8\n",
      "Total Physical Capital 1.0\n",
      "Total natural score 3.0\n"
     ]
    },
    {
     "data": {
      "text/html": [
       "<div>\n",
       "<style scoped>\n",
       "    .dataframe tbody tr th:only-of-type {\n",
       "        vertical-align: middle;\n",
       "    }\n",
       "\n",
       "    .dataframe tbody tr th {\n",
       "        vertical-align: top;\n",
       "    }\n",
       "\n",
       "    .dataframe thead th {\n",
       "        text-align: right;\n",
       "    }\n",
       "</style>\n",
       "<table border=\"1\" class=\"dataframe\">\n",
       "  <thead>\n",
       "    <tr style=\"text-align: right;\">\n",
       "      <th></th>\n",
       "      <th>Family name</th>\n",
       "      <th>Year</th>\n",
       "      <th>Family member</th>\n",
       "      <th>Total Human Capital</th>\n",
       "      <th>Total Financial Capital</th>\n",
       "      <th>Total Social capital</th>\n",
       "      <th>Total Physical Capital</th>\n",
       "      <th>Total natural score</th>\n",
       "      <th>Average\\nVND</th>\n",
       "    </tr>\n",
       "  </thead>\n",
       "  <tbody>\n",
       "    <tr>\n",
       "      <th>77</th>\n",
       "      <td>DOAN THI NUOI</td>\n",
       "      <td>2018</td>\n",
       "      <td>4</td>\n",
       "      <td>2.0</td>\n",
       "      <td>0</td>\n",
       "      <td>1.8</td>\n",
       "      <td>1</td>\n",
       "      <td>3.0</td>\n",
       "      <td>372000.0</td>\n",
       "    </tr>\n",
       "  </tbody>\n",
       "</table>\n",
       "</div>"
      ],
      "text/plain": [
       "      Family name  Year  Family member  Total Human Capital  \\\n",
       "77  DOAN THI NUOI  2018              4                  2.0   \n",
       "\n",
       "    Total Financial Capital  Total Social capital  Total Physical Capital  \\\n",
       "77                        0                   1.8                       1   \n",
       "\n",
       "    Total natural score  Average\\nVND  \n",
       "77                  3.0      372000.0  "
      ]
     },
     "execution_count": 24,
     "metadata": {},
     "output_type": "execute_result"
    }
   ],
   "source": [
    "def extract_year(yearly, filter_result):\n",
    "    filter_year = filter_result[filter_result['Year'] == yearly]\n",
    "    \n",
    "    summary_score_focus_year = filter_year[['Total Human Capital', 'Total Financial Capital', 'Total Social capital', 'Total Physical Capital', 'Total natural score']].sum()\n",
    "    print(\"The total score in\", yearly, \"is\", summary_score_focus_year.sum())\n",
    "    print(\"Total Human Capital\", summary_score_focus_year['Total Human Capital'])\n",
    "    print(\"Total Financial Capital\", summary_score_focus_year['Total Financial Capital'])\n",
    "    print(\"Total Social capital\", summary_score_focus_year['Total Social capital'])\n",
    "    print(\"Total Physical Capital\", summary_score_focus_year['Total Physical Capital'])\n",
    "    print(\"Total natural score\", summary_score_focus_year['Total natural score'])\n",
    "    \n",
    "    years = np.array(filter_result['Year'])\n",
    "    index = np.where(years == yearly)[0][0]\n",
    "    score_columns = ['score_{}'.format(year) for year in years]\n",
    "    human_columns = ['human_{}'.format(year) for year in years]\n",
    "    finan_columns = ['finan_{}'.format(year) for year in years]\n",
    "    social_columns = ['social_{}'.format(year) for year in years]\n",
    "    physic_columns = ['physic_{}'.format(year) for year in years]\n",
    "    natur_columns = ['natur_{}'.format(year) for year in years]\n",
    "    \n",
    "    globals().update({score_columns[index]: summary_score_focus_year.sum(),\n",
    "                      human_columns[index]: summary_score_focus_year['Total Human Capital'],\n",
    "                      finan_columns[index]: summary_score_focus_year['Total Financial Capital'],\n",
    "                      social_columns[index]: summary_score_focus_year['Total Social capital'],\n",
    "                      physic_columns[index]: summary_score_focus_year['Total Physical Capital'],\n",
    "                      natur_columns[index]: summary_score_focus_year['Total natural score']})\n",
    "    \n",
    "    return filter_year.head()\n",
    "\n",
    "yearly = int(input(\"Enter focus year: \"))\n",
    "extract_year(yearly, filter_result)\n"
   ]
  },
  {
   "cell_type": "code",
   "execution_count": 25,
   "id": "ec800544",
   "metadata": {},
   "outputs": [
    {
     "name": "stdout",
     "output_type": "stream",
     "text": [
      "DOAN THI NUOI\n",
      "The Total score in 2018 is 7.8\n",
      "The Total score in 2019 is 12.8\n",
      "The Total score in 2020 is 15.8\n",
      "The Total score in 2021 is 15.9\n",
      "The Total score in 2022 is 16.2\n"
     ]
    }
   ],
   "source": [
    "print(family_name)\n",
    "print(\"The Total score in 2018 is\",score_2018)\n",
    "print(\"The Total score in 2019 is\",score_2019)\n",
    "print(\"The Total score in 2020 is\",score_2020)\n",
    "print(\"The Total score in 2021 is\",score_2021)\n",
    "print(\"The Total score in 2022 is\",score_2022)\n",
    "# print(\"The Total score in 2023 is\",score_2023)"
   ]
  },
  {
   "cell_type": "markdown",
   "id": "4ccc0bf0",
   "metadata": {},
   "source": [
    "# Evaluate the color code of Total score"
   ]
  },
  {
   "cell_type": "code",
   "execution_count": 26,
   "id": "897f8848",
   "metadata": {},
   "outputs": [
    {
     "name": "stdout",
     "output_type": "stream",
     "text": [
      "\u001b[41mred 7.8\n",
      "\u001b[43myellow 12.8\n",
      "\u001b[43myellow 15.8\n",
      "\u001b[43myellow 15.9\n",
      "\u001b[43myellow 16.2\n"
     ]
    }
   ],
   "source": [
    "data = [score_2018,score_2019,score_2020,score_2021,score_2022] #,score_2023,score_2024\n",
    "count_red = 0\n",
    "count_yellow = 0\n",
    "count_green = 0\n",
    "for i in data:\n",
    "    if 0 <= i <= 9.99:\n",
    "        print(Back.RED + \"red\",i)\n",
    "        count_red = count_red + 1\n",
    "    elif 10 <= i <= 19.99:\n",
    "        print(Back.YELLOW + \"yellow\",i)\n",
    "        count_yellow = count_yellow + 1\n",
    "    elif 20 <= i <= 28:\n",
    "        print(Back.GREEN + \"Green\",i)\n",
    "        count_green = count_green +1\n",
    "    else:\n",
    "        print(Back.BLACK + \"Error\",i)\n"
   ]
  },
  {
   "cell_type": "markdown",
   "id": "c04477ff",
   "metadata": {},
   "source": [
    "# Pie chart the ratio of color"
   ]
  },
  {
   "cell_type": "code",
   "execution_count": 27,
   "id": "2c2920fe",
   "metadata": {},
   "outputs": [
    {
     "name": "stdout",
     "output_type": "stream",
     "text": [
      "[4 5 7 7 6]\n"
     ]
    }
   ],
   "source": [
    "filter_result['Family member'].head()\n",
    "family_memb = np.array(filter_result['Family member'])\n",
    "print(family_memb)"
   ]
  },
  {
   "cell_type": "code",
   "execution_count": 28,
   "id": "b13cd652",
   "metadata": {},
   "outputs": [
    {
     "data": {
      "image/png": "[encoded data removed]",
      "text/plain": [
       "<Figure size 432x288 with 1 Axes>"
      ]
     },
     "metadata": {},
     "output_type": "display_data"
    }
   ],
   "source": [
    "y = np.array([count_red,count_yellow,count_green])\n",
    "graph_lebels = [\"Red\",\"Yellow\",\"Green\"]\n",
    "colors = ['red','yellow','green']\n",
    "myexplode = [0.2, 0.2 , 0.2]\n",
    "plt.pie(y, labels = graph_lebels, colors = colors, explode = myexplode, shadow =True,autopct='%1.2f%%',labeldistance=1.2)\n",
    "plt.legend(title = \"Ratio of color\")\n",
    "plt.gca().set_aspect('equal')\n",
    "plt.gca().set_position([0.1, 0.1, 1.2, 1.2])\n",
    "plt.show()"
   ]
  },
  {
   "cell_type": "markdown",
   "id": "0689d70a",
   "metadata": {},
   "source": [
    "# Line chart of total score vs year"
   ]
  },
  {
   "cell_type": "code",
   "execution_count": 29,
   "id": "33bd35bb",
   "metadata": {},
   "outputs": [],
   "source": [
    "#declare variable\n",
    "df_year = [2018,2019,2020,2021,2022] #2023,2024\n",
    "df_score = [score_2018,score_2019,score_2020,score_2021,score_2022]\n",
    "family_memb\n",
    "avg_nvd = np.array(filter_result['Average\\nVND'])"
   ]
  },
  {
   "cell_type": "code",
   "execution_count": 30,
   "id": "f32a3718",
   "metadata": {},
   "outputs": [
    {
     "data": {
      "image/png": "[encoded data removed]",
      "text/plain": [
       "<Figure size 720x360 with 1 Axes>"
      ]
     },
     "metadata": {
      "needs_background": "light"
     },
     "output_type": "display_data"
    }
   ],
   "source": [
    "x = df_year\n",
    "y = df_score\n",
    "plt.figure(figsize = (10, 5))\n",
    "plt.plot(x,y,marker=\"H\",ls = ':',lw=2)\n",
    "plt.title(\"The trend of score each year in Bongsen\")\n",
    "plt.xlabel(\"Year\")\n",
    "plt.ylabel(\"The Total score\")\n",
    "plt.grid(axis = 'y')\n",
    "for a,b in zip(x, y): \n",
    "    plt.text(a, b, str(b),fontsize=16)\n",
    "plt.show()"
   ]
  },
  {
   "cell_type": "markdown",
   "id": "9561f9b6",
   "metadata": {},
   "source": [
    "# Line chart of family member vs year"
   ]
  },
  {
   "cell_type": "code",
   "execution_count": 31,
   "id": "51fa8de6",
   "metadata": {},
   "outputs": [
    {
     "data": {
      "image/png": "[encoded data removed]",
      "text/plain": [
       "<Figure size 720x360 with 1 Axes>"
      ]
     },
     "metadata": {
      "needs_background": "light"
     },
     "output_type": "display_data"
    }
   ],
   "source": [
    "x = df_year\n",
    "y = family_memb\n",
    "plt.figure(figsize = (10, 5))\n",
    "plt.plot(x,y,marker=\"H\",ls = '-',lw=2)\n",
    "plt.title(\"The trend of family member each year in Bongsen\")\n",
    "plt.xlabel(\"Year\")\n",
    "plt.ylabel(\"The Total score\")\n",
    "plt.grid(axis = 'y')\n",
    "for a,b in zip(x, y): \n",
    "    plt.text(a, b, str(b),fontsize=16)\n",
    "plt.show()"
   ]
  },
  {
   "cell_type": "markdown",
   "id": "09e4f947",
   "metadata": {},
   "source": [
    "# Line chart of earning vs year"
   ]
  },
  {
   "cell_type": "code",
   "execution_count": 32,
   "id": "843b1d84",
   "metadata": {},
   "outputs": [
    {
     "data": {
      "image/png": "[encoded data removed]",
      "text/plain": [
       "<Figure size 720x360 with 1 Axes>"
      ]
     },
     "metadata": {
      "needs_background": "light"
     },
     "output_type": "display_data"
    }
   ],
   "source": [
    "x = df_year\n",
    "y = avg_nvd\n",
    "plt.figure(figsize = (10, 5))\n",
    "plt.plot(x,y,lw=2)\n",
    "plt.title('The earning of family data vs year')\n",
    "plt.xlabel('Year')\n",
    "plt.ylabel('Average NVD')\n",
    "plt.grid()\n",
    "for a,b in zip(x, y): \n",
    "    plt.text(a, b, str(b),fontsize=16)\n",
    "plt.show()"
   ]
  },
  {
   "cell_type": "markdown",
   "id": "152e6f0d",
   "metadata": {},
   "source": [
    "# Criteria score each year"
   ]
  },
  {
   "cell_type": "code",
   "execution_count": 33,
   "id": "9de0d40c",
   "metadata": {},
   "outputs": [],
   "source": [
    "#compare each capital vs year\n",
    "df_human = [human_2018, human_2019, human_2020, human_2021, human_2022]\n",
    "df_finan = [finan_2018, finan_2019, finan_2020, finan_2021, finan_2022]\n",
    "df_social = [social_2018, social_2019, social_2020, social_2021, social_2022]\n",
    "df_physic = [ physic_2018, physic_2019, physic_2020, physic_2021, physic_2022]\n",
    "df_natur = [natur_2018, natur_2019, natur_2020, natur_2021, natur_2022]\n",
    "df_year = [2018,2019,2020,2021,2022]"
   ]
  },
  {
   "cell_type": "code",
   "execution_count": 34,
   "id": "afe98df7",
   "metadata": {},
   "outputs": [
    {
     "data": {
      "text/plain": [
       "<Figure size 480x320 with 0 Axes>"
      ]
     },
     "metadata": {},
     "output_type": "display_data"
    }
   ],
   "source": [
    "fig = plt.figure(dpi=80)"
   ]
  },
  {
   "cell_type": "code",
   "execution_count": 35,
   "id": "643a9317",
   "metadata": {},
   "outputs": [],
   "source": [
    "axes = fig.add_axes([0,0,1,1]) #origin pont(0,0) high (1,1)"
   ]
  },
  {
   "cell_type": "code",
   "execution_count": 36,
   "id": "772bb106",
   "metadata": {
    "scrolled": true
   },
   "outputs": [
    {
     "data": {
      "text/plain": [
       "[<matplotlib.lines.Line2D at 0x1c7687410a0>]"
      ]
     },
     "execution_count": 36,
     "metadata": {},
     "output_type": "execute_result"
    }
   ],
   "source": [
    "axes.plot(df_year,df_human, label='Human Capital', marker='D',color='#ca94e0',lw=3)\n",
    "axes.plot(df_year,df_finan, label='Financial Capital', marker='*',color='#e92297',lw=3)\n",
    "axes.plot(df_year,df_social, label='Social capital', marker='p',color='#689953',lw=3)\n",
    "axes.plot(df_year,df_physic, label='Physical Capital', marker='s',color='#e8d3be',lw=3)\n",
    "axes.plot(df_year,df_natur, label='Natural Score', marker='.',color='#85f1f1',lw=3)"
   ]
  },
  {
   "cell_type": "code",
   "execution_count": 37,
   "id": "2404ff0c",
   "metadata": {},
   "outputs": [
    {
     "data": {
      "text/plain": [
       "<matplotlib.legend.Legend at 0x1c752dcbb50>"
      ]
     },
     "execution_count": 37,
     "metadata": {},
     "output_type": "execute_result"
    }
   ],
   "source": [
    "axes.legend()"
   ]
  },
  {
   "cell_type": "code",
   "execution_count": 38,
   "id": "62ff20cc",
   "metadata": {
    "scrolled": false
   },
   "outputs": [
    {
     "data": {
      "image/png": "[encoded data removed]",
      "text/plain": [
       "<Figure size 480x320 with 1 Axes>"
      ]
     },
     "execution_count": 38,
     "metadata": {},
     "output_type": "execute_result"
    }
   ],
   "source": [
    "fig"
   ]
  },
  {
   "cell_type": "code",
   "execution_count": 39,
   "id": "b1c43a54",
   "metadata": {},
   "outputs": [
    {
     "data": {
      "text/plain": [
       "Text(0.5, 1.0, 'The score of 2018')"
      ]
     },
     "execution_count": 39,
     "metadata": {},
     "output_type": "execute_result"
    },
    {
     "data": {
      "image/png": "[encoded data removed]",
      "text/plain": [
       "<Figure size 720x360 with 1 Axes>"
      ]
     },
     "metadata": {
      "needs_background": "light"
     },
     "output_type": "display_data"
    }
   ],
   "source": [
    "x = ['Human Capital','Financial Capital','Social capital','Physical Capital','natural score']\n",
    "y = [human_2018,finan_2018,social_2018,physic_2018,natur_2018]\n",
    "def addlabels(x,y):\n",
    "    for i in range(len(x)):\n",
    "        plt.text(i,y[i],y[i])\n",
    "colors = ['#ca94e0','#e92297','#689953','#e8d3be','#85f1f1']\n",
    "plt.figure(figsize = (10, 5))\n",
    "plt.bar(x,y,width = 0.5,color=colors)\n",
    "addlabels(x, y)\n",
    "plt.xlabel('The criteria score')\n",
    "plt.ylabel('score')\n",
    "plt.title('The score of 2018')"
   ]
  },
  {
   "cell_type": "code",
   "execution_count": 40,
   "id": "97bcb889",
   "metadata": {},
   "outputs": [
    {
     "data": {
      "text/plain": [
       "Text(0.5, 1.0, 'The score of 2019')"
      ]
     },
     "execution_count": 40,
     "metadata": {},
     "output_type": "execute_result"
    },
    {
     "data": {
      "image/png": "[encoded data removed]",
      "text/plain": [
       "<Figure size 720x360 with 1 Axes>"
      ]
     },
     "metadata": {
      "needs_background": "light"
     },
     "output_type": "display_data"
    }
   ],
   "source": [
    "x = ['Human Capital','Financial Capital','Social capital','Physical Capital','natural score']\n",
    "y = [human_2019,finan_2019,social_2019,physic_2019,natur_2019]\n",
    "colors = ['#ca94e0','#e92297','#689953','#e8d3be','#85f1f1']\n",
    "def addlabels(x,y):\n",
    "    for i in range(len(x)):\n",
    "        plt.text(i,y[i],y[i])\n",
    "plt.figure(figsize = (10, 5))\n",
    "plt.bar(x,y,width = 0.5,color=colors)\n",
    "addlabels(x, y)\n",
    "plt.xlabel('The criteria score')\n",
    "plt.ylabel('score')\n",
    "plt.title('The score of 2019')"
   ]
  },
  {
   "cell_type": "code",
   "execution_count": 41,
   "id": "0954b12f",
   "metadata": {},
   "outputs": [
    {
     "data": {
      "text/plain": [
       "Text(0.5, 1.0, 'The score of 2020')"
      ]
     },
     "execution_count": 41,
     "metadata": {},
     "output_type": "execute_result"
    },
    {
     "data": {
      "image/png": "[encoded data removed]",
      "text/plain": [
       "<Figure size 720x360 with 1 Axes>"
      ]
     },
     "metadata": {
      "needs_background": "light"
     },
     "output_type": "display_data"
    }
   ],
   "source": [
    "x = ['Human Capital','Financial Capital','Social capital','Physical Capital','natural score']\n",
    "y = [human_2020,finan_2020,social_2020,physic_2020,natur_2020]\n",
    "def addlabels(x,y):\n",
    "    for i in range(len(x)):\n",
    "        plt.text(i,y[i],y[i])\n",
    "colors = ['#ca94e0','#e92297','#689953','#e8d3be','#85f1f1']\n",
    "plt.figure(figsize = (10, 5))\n",
    "plt.bar(x,y,width = 0.5,color=colors)\n",
    "addlabels(x, y)\n",
    "plt.xlabel('The criteria score')\n",
    "plt.ylabel('score')\n",
    "plt.title('The score of 2020')"
   ]
  },
  {
   "cell_type": "code",
   "execution_count": 42,
   "id": "1c50edb9",
   "metadata": {},
   "outputs": [
    {
     "data": {
      "text/plain": [
       "Text(0.5, 1.0, 'The score of 2021')"
      ]
     },
     "execution_count": 42,
     "metadata": {},
     "output_type": "execute_result"
    },
    {
     "data": {
      "image/png": "[encoded data removed]",
      "text/plain": [
       "<Figure size 720x360 with 1 Axes>"
      ]
     },
     "metadata": {
      "needs_background": "light"
     },
     "output_type": "display_data"
    }
   ],
   "source": [
    "x = ['Human Capital','Financial Capital','Social capital','Physical Capital','natural score']\n",
    "y = [human_2021,finan_2021,social_2021,physic_2021,natur_2021]\n",
    "def addlabels(x,y):\n",
    "    for i in range(len(x)):\n",
    "        plt.text(i,y[i],y[i])\n",
    "colors = ['#ca94e0','#e92297','#689953','#e8d3be','#85f1f1']\n",
    "plt.figure(figsize = (10, 5))\n",
    "plt.bar(x,y,width = 0.5,color=colors)\n",
    "addlabels(x, y)\n",
    "plt.xlabel('The criteria score')\n",
    "plt.ylabel('score')\n",
    "plt.title('The score of 2021')"
   ]
  },
  {
   "cell_type": "code",
   "execution_count": 43,
   "id": "70e30a08",
   "metadata": {},
   "outputs": [
    {
     "data": {
      "text/plain": [
       "Text(0.5, 1.0, 'The score of 2022')"
      ]
     },
     "execution_count": 43,
     "metadata": {},
     "output_type": "execute_result"
    },
    {
     "data": {
      "image/png": "[encoded data removed]",
      "text/plain": [
       "<Figure size 720x360 with 1 Axes>"
      ]
     },
     "metadata": {
      "needs_background": "light"
     },
     "output_type": "display_data"
    }
   ],
   "source": [
    "x = ['Human Capital','Financial Capital','Social capital','Physical Capital','natural score']\n",
    "y = [human_2022,finan_2022,social_2022,physic_2022,natur_2022]\n",
    "def addlabels(x,y):\n",
    "    for i in range(len(x)):\n",
    "        plt.text(i,y[i],y[i])\n",
    "colors = ['#ca94e0','#e92297','#689953','#e8d3be','#85f1f1']\n",
    "plt.figure(figsize = (10, 5))\n",
    "plt.bar(x,y,width = 0.5,color=colors)\n",
    "addlabels(x, y)\n",
    "plt.xlabel('The criteria score')\n",
    "plt.ylabel('score')\n",
    "plt.title('The score of 2022')"
   ]
  },
  {
   "cell_type": "code",
   "execution_count": null,
   "id": "16a38f92",
   "metadata": {},
   "outputs": [],
   "source": []
  }
 ],
 "metadata": {
  "kernelspec": {
   "display_name": "Python 3",
   "language": "python",
   "name": "python3"
  },
  "language_info": {
   "codemirror_mode": {
    "name": "ipython",
    "version": 3
   },
   "file_extension": ".py",
   "mimetype": "text/x-python",
   "name": "python",
   "nbconvert_exporter": "python",
   "pygments_lexer": "ipython3",
   "version": "3.8.8"
  }
 },
 "nbformat": 4,
 "nbformat_minor": 5
}
