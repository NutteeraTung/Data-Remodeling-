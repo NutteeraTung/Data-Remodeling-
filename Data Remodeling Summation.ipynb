{
 "cells": [
  {
   "cell_type": "code",
   "execution_count": 1,
   "id": "0682765b",
   "metadata": {},
   "outputs": [
    {
     "name": "stderr",
     "output_type": "stream",
     "text": [
      "C:\\Users\\panda\\anaconda3\\lib\\site-packages\\scipy\\__init__.py:138: UserWarning: A NumPy version >=1.16.5 and <1.23.0 is required for this version of SciPy (detected version 1.24.4)\n",
      "  warnings.warn(f\"A NumPy version >={np_minversion} and <{np_maxversion} is required for this version of \"\n"
     ]
    }
   ],
   "source": [
    "import numpy as np\n",
    "import matplotlib.pyplot as plt\n",
    "import pandas as pd\n",
    "import seaborn as sns\n",
    "from colorama import *\n",
    "from scipy import stats"
   ]
  },
  {
   "cell_type": "code",
   "execution_count": 2,
   "id": "737d0d39",
   "metadata": {},
   "outputs": [],
   "source": [
    "df = pd.read_excel(r'C:\\Users\\panda\\OneDrive\\Desktop\\Bongsen\\remodeling.xlsx',sheet_name =\"Summation\")"
   ]
  },
  {
   "cell_type": "code",
   "execution_count": 3,
   "id": "092c94d7",
   "metadata": {},
   "outputs": [
    {
     "data": {
      "text/html": [
       "<div>\n",
       "<style scoped>\n",
       "    .dataframe tbody tr th:only-of-type {\n",
       "        vertical-align: middle;\n",
       "    }\n",
       "\n",
       "    .dataframe tbody tr th {\n",
       "        vertical-align: top;\n",
       "    }\n",
       "\n",
       "    .dataframe thead th {\n",
       "        text-align: right;\n",
       "    }\n",
       "</style>\n",
       "<table border=\"1\" class=\"dataframe\">\n",
       "  <thead>\n",
       "    <tr style=\"text-align: right;\">\n",
       "      <th></th>\n",
       "      <th>Unnamed: 0</th>\n",
       "      <th>Family name</th>\n",
       "      <th>2018</th>\n",
       "      <th>2019</th>\n",
       "      <th>2020</th>\n",
       "      <th>2021</th>\n",
       "      <th>2022</th>\n",
       "      <th>2023</th>\n",
       "      <th>2024</th>\n",
       "      <th>2025</th>\n",
       "      <th>Donor</th>\n",
       "    </tr>\n",
       "  </thead>\n",
       "  <tbody>\n",
       "    <tr>\n",
       "      <th>0</th>\n",
       "      <td>180001</td>\n",
       "      <td>NGUYEN THI MY LINH</td>\n",
       "      <td>7.9</td>\n",
       "      <td>10.8</td>\n",
       "      <td>13.8</td>\n",
       "      <td>15.2</td>\n",
       "      <td>15.15</td>\n",
       "      <td>-</td>\n",
       "      <td>-</td>\n",
       "      <td>NaN</td>\n",
       "      <td>BS</td>\n",
       "    </tr>\n",
       "    <tr>\n",
       "      <th>1</th>\n",
       "      <td>180002</td>\n",
       "      <td>TRAN NGOC TUYEN</td>\n",
       "      <td>8.8</td>\n",
       "      <td>12.83</td>\n",
       "      <td>14.1</td>\n",
       "      <td>15.8</td>\n",
       "      <td>15.2</td>\n",
       "      <td>-</td>\n",
       "      <td>-</td>\n",
       "      <td>NaN</td>\n",
       "      <td>BS</td>\n",
       "    </tr>\n",
       "    <tr>\n",
       "      <th>2</th>\n",
       "      <td>180003</td>\n",
       "      <td>NGUYEN THANH TRUC</td>\n",
       "      <td>9.75</td>\n",
       "      <td>11.92</td>\n",
       "      <td>15.05</td>\n",
       "      <td>14.2</td>\n",
       "      <td>15.1</td>\n",
       "      <td>-</td>\n",
       "      <td>-</td>\n",
       "      <td>NaN</td>\n",
       "      <td>BS</td>\n",
       "    </tr>\n",
       "    <tr>\n",
       "      <th>3</th>\n",
       "      <td>180005</td>\n",
       "      <td>DANG THU THAO</td>\n",
       "      <td>8.9</td>\n",
       "      <td>-</td>\n",
       "      <td>-</td>\n",
       "      <td>-</td>\n",
       "      <td>-</td>\n",
       "      <td>-</td>\n",
       "      <td>-</td>\n",
       "      <td>NaN</td>\n",
       "      <td>BS</td>\n",
       "    </tr>\n",
       "    <tr>\n",
       "      <th>4</th>\n",
       "      <td>180006</td>\n",
       "      <td>TRAN THI DIEM</td>\n",
       "      <td>6.6</td>\n",
       "      <td>9.8</td>\n",
       "      <td>10.8</td>\n",
       "      <td>14.48</td>\n",
       "      <td>14.55</td>\n",
       "      <td>-</td>\n",
       "      <td>-</td>\n",
       "      <td>NaN</td>\n",
       "      <td>BS</td>\n",
       "    </tr>\n",
       "  </tbody>\n",
       "</table>\n",
       "</div>"
      ],
      "text/plain": [
       "   Unnamed: 0         Family name  2018   2019   2020   2021   2022 2023 2024  \\\n",
       "0      180001  NGUYEN THI MY LINH   7.9   10.8   13.8   15.2  15.15    -    -   \n",
       "1      180002     TRAN NGOC TUYEN   8.8  12.83   14.1   15.8   15.2    -    -   \n",
       "2      180003   NGUYEN THANH TRUC  9.75  11.92  15.05   14.2   15.1    -    -   \n",
       "3      180005       DANG THU THAO   8.9      -      -      -      -    -    -   \n",
       "4      180006       TRAN THI DIEM   6.6    9.8   10.8  14.48  14.55    -    -   \n",
       "\n",
       "  2025 Donor  \n",
       "0  NaN    BS  \n",
       "1  NaN    BS  \n",
       "2  NaN    BS  \n",
       "3  NaN    BS  \n",
       "4  NaN    BS  "
      ]
     },
     "execution_count": 3,
     "metadata": {},
     "output_type": "execute_result"
    }
   ],
   "source": [
    "df.head()"
   ]
  },
  {
   "cell_type": "markdown",
   "id": "922c57b5",
   "metadata": {},
   "source": [
    "# Cleaning Data 2018y"
   ]
  },
  {
   "cell_type": "code",
   "execution_count": 4,
   "id": "b69f66dd",
   "metadata": {},
   "outputs": [
    {
     "data": {
      "text/plain": [
       "0       7.9\n",
       "1       8.8\n",
       "2      9.75\n",
       "3       8.9\n",
       "4       6.6\n",
       "       ... \n",
       "212       -\n",
       "213       -\n",
       "214       -\n",
       "215       -\n",
       "216       -\n",
       "Name: 2018, Length: 217, dtype: object"
      ]
     },
     "execution_count": 4,
     "metadata": {},
     "output_type": "execute_result"
    }
   ],
   "source": [
    "df[2018]"
   ]
  },
  {
   "cell_type": "code",
   "execution_count": 11,
   "id": "c9abab0b",
   "metadata": {},
   "outputs": [
    {
     "data": {
      "text/html": [
       "<div>\n",
       "<style scoped>\n",
       "    .dataframe tbody tr th:only-of-type {\n",
       "        vertical-align: middle;\n",
       "    }\n",
       "\n",
       "    .dataframe tbody tr th {\n",
       "        vertical-align: top;\n",
       "    }\n",
       "\n",
       "    .dataframe thead th {\n",
       "        text-align: right;\n",
       "    }\n",
       "</style>\n",
       "<table border=\"1\" class=\"dataframe\">\n",
       "  <thead>\n",
       "    <tr style=\"text-align: right;\">\n",
       "      <th></th>\n",
       "      <th>Unnamed: 0</th>\n",
       "      <th>Family name</th>\n",
       "      <th>2018</th>\n",
       "      <th>2019</th>\n",
       "      <th>2020</th>\n",
       "      <th>2021</th>\n",
       "      <th>2022</th>\n",
       "      <th>2023</th>\n",
       "      <th>2024</th>\n",
       "      <th>2025</th>\n",
       "      <th>Donor</th>\n",
       "    </tr>\n",
       "  </thead>\n",
       "  <tbody>\n",
       "    <tr>\n",
       "      <th>0</th>\n",
       "      <td>180001</td>\n",
       "      <td>NGUYEN THI MY LINH</td>\n",
       "      <td>7.90</td>\n",
       "      <td>10.80</td>\n",
       "      <td>13.80</td>\n",
       "      <td>15.20</td>\n",
       "      <td>15.15</td>\n",
       "      <td>NaN</td>\n",
       "      <td>NaN</td>\n",
       "      <td>NaN</td>\n",
       "      <td>BS</td>\n",
       "    </tr>\n",
       "    <tr>\n",
       "      <th>1</th>\n",
       "      <td>180002</td>\n",
       "      <td>TRAN NGOC TUYEN</td>\n",
       "      <td>8.80</td>\n",
       "      <td>12.83</td>\n",
       "      <td>14.10</td>\n",
       "      <td>15.80</td>\n",
       "      <td>15.20</td>\n",
       "      <td>NaN</td>\n",
       "      <td>NaN</td>\n",
       "      <td>NaN</td>\n",
       "      <td>BS</td>\n",
       "    </tr>\n",
       "    <tr>\n",
       "      <th>2</th>\n",
       "      <td>180003</td>\n",
       "      <td>NGUYEN THANH TRUC</td>\n",
       "      <td>9.75</td>\n",
       "      <td>11.92</td>\n",
       "      <td>15.05</td>\n",
       "      <td>14.20</td>\n",
       "      <td>15.10</td>\n",
       "      <td>NaN</td>\n",
       "      <td>NaN</td>\n",
       "      <td>NaN</td>\n",
       "      <td>BS</td>\n",
       "    </tr>\n",
       "    <tr>\n",
       "      <th>3</th>\n",
       "      <td>180005</td>\n",
       "      <td>DANG THU THAO</td>\n",
       "      <td>8.90</td>\n",
       "      <td>NaN</td>\n",
       "      <td>NaN</td>\n",
       "      <td>NaN</td>\n",
       "      <td>NaN</td>\n",
       "      <td>NaN</td>\n",
       "      <td>NaN</td>\n",
       "      <td>NaN</td>\n",
       "      <td>BS</td>\n",
       "    </tr>\n",
       "    <tr>\n",
       "      <th>4</th>\n",
       "      <td>180006</td>\n",
       "      <td>TRAN THI DIEM</td>\n",
       "      <td>6.60</td>\n",
       "      <td>9.80</td>\n",
       "      <td>10.80</td>\n",
       "      <td>14.48</td>\n",
       "      <td>14.55</td>\n",
       "      <td>NaN</td>\n",
       "      <td>NaN</td>\n",
       "      <td>NaN</td>\n",
       "      <td>BS</td>\n",
       "    </tr>\n",
       "  </tbody>\n",
       "</table>\n",
       "</div>"
      ],
      "text/plain": [
       "   Unnamed: 0         Family name  2018   2019   2020   2021   2022  2023  \\\n",
       "0      180001  NGUYEN THI MY LINH  7.90  10.80  13.80  15.20  15.15   NaN   \n",
       "1      180002     TRAN NGOC TUYEN  8.80  12.83  14.10  15.80  15.20   NaN   \n",
       "2      180003   NGUYEN THANH TRUC  9.75  11.92  15.05  14.20  15.10   NaN   \n",
       "3      180005       DANG THU THAO  8.90    NaN    NaN    NaN    NaN   NaN   \n",
       "4      180006       TRAN THI DIEM  6.60   9.80  10.80  14.48  14.55   NaN   \n",
       "\n",
       "   2024  2025 Donor  \n",
       "0   NaN   NaN    BS  \n",
       "1   NaN   NaN    BS  \n",
       "2   NaN   NaN    BS  \n",
       "3   NaN   NaN    BS  \n",
       "4   NaN   NaN    BS  "
      ]
     },
     "execution_count": 11,
     "metadata": {},
     "output_type": "execute_result"
    }
   ],
   "source": [
    "#delete blank column for check the color code\n",
    "missing_value = ['n/a','-','--','na','NaN','','#N/A'] \n",
    "df = pd.read_excel(r'C:\\Users\\panda\\OneDrive\\Desktop\\Bongsen\\remodeling.xlsx',sheet_name =\"Summation\",na_values = missing_value)\n",
    "df.head()"
   ]
  },
  {
   "cell_type": "code",
   "execution_count": 12,
   "id": "6ef528f1",
   "metadata": {},
   "outputs": [
    {
     "name": "stdout",
     "output_type": "stream",
     "text": [
      "Total data of 2018 year is =  217\n",
      "Total missing data of 2018 year is =  171\n",
      "Total given data of 2018 year is =  46\n",
      "------------------------------------ \n",
      "\n",
      "Total data of 2019 year is =  217\n",
      "Total missing data of 2019 year is =  161\n",
      "Total given data of 2019 year is =  56\n",
      "------------------------------------ \n",
      "\n",
      "Total data of 2020 year is =  217\n",
      "Total missing data of 2020 year is =  122\n",
      "Total given data of 2019 year is =  95\n",
      "------------------------------------ \n",
      "\n",
      "Total data of 2021 year is =  217\n",
      "Total missing data of 2021 year is =  113\n",
      "Total given data of 2021 year is =  104\n",
      "------------------------------------ \n",
      "\n",
      "Total data of 2022 year is =  217\n",
      "Total missing data of 2022 year is =  95\n",
      "Total given data of 2021 year is =  122\n",
      "------------------------------------ \n",
      "\n",
      "Total data of 2023 year is =  217\n",
      "Total missing data of 2023 year is =  112\n",
      "Total given data of 2023 year is =  105\n",
      "------------------------------------ \n",
      "\n",
      "The missing of dodnor is =  14\n"
     ]
    }
   ],
   "source": [
    "#2018\n",
    "total_2018 = len(df[2018])\n",
    "print(\"Total data of 2018 year is = \",total_2018)\n",
    "\n",
    "na_2018 = df[2018].isnull().sum()\n",
    "print(\"Total missing data of 2018 year is = \",na_2018)\n",
    "\n",
    "value_2018 = total_2018 - na_2018\n",
    "print(\"Total given data of 2018 year is = \",value_2018) \n",
    "print(\"------------------------------------ \\n\")\n",
    "#2019\n",
    "total_2019 = len(df[2019])\n",
    "print(\"Total data of 2019 year is = \",total_2019)\n",
    "\n",
    "na_2019 = df[2019].isnull().sum()\n",
    "print(\"Total missing data of 2019 year is = \",na_2019)\n",
    "\n",
    "value_2019 = total_2019 - na_2019\n",
    "print(\"Total given data of 2019 year is = \",value_2019)\n",
    "print(\"------------------------------------ \\n\")\n",
    "\n",
    "#2020\n",
    "total_2020 = len(df[2020])\n",
    "print(\"Total data of 2020 year is = \",total_2020)\n",
    "\n",
    "na_2020 = df[2020].isnull().sum()\n",
    "print(\"Total missing data of 2020 year is = \",na_2020)\n",
    "\n",
    "value_2020 = total_2020 - na_2020\n",
    "print(\"Total given data of 2019 year is = \",value_2020)\n",
    "print(\"------------------------------------ \\n\")\n",
    "\n",
    "#2021\n",
    "total_2021 = len(df[2021])\n",
    "print(\"Total data of 2021 year is = \",total_2021)\n",
    "\n",
    "na_2021 = df[2021].isnull().sum()\n",
    "print(\"Total missing data of 2021 year is = \",na_2021)\n",
    "\n",
    "value_2021 = total_2021 - na_2021\n",
    "print(\"Total given data of 2021 year is = \",value_2021)\n",
    "print(\"------------------------------------ \\n\")\n",
    "\n",
    "#2022\n",
    "total_2022 = len(df[2022])\n",
    "print(\"Total data of 2022 year is = \",total_2022)\n",
    "\n",
    "na_2022 = df[2022].isnull().sum()\n",
    "print(\"Total missing data of 2022 year is = \",na_2022)\n",
    "\n",
    "value_2022 = total_2022 - na_2022\n",
    "print(\"Total given data of 2021 year is = \",value_2022)\n",
    "print(\"------------------------------------ \\n\")\n",
    "\n",
    "#2023\n",
    "total_2023 = len(df[2023])\n",
    "print(\"Total data of 2023 year is = \",total_2023)\n",
    "\n",
    "na_2023 = df[2023].isnull().sum()\n",
    "print(\"Total missing data of 2023 year is = \",na_2023)\n",
    "\n",
    "value_2023 = total_2023 - na_2023\n",
    "print(\"Total given data of 2023 year is = \",value_2023)\n",
    "print(\"------------------------------------ \\n\")\n",
    "\n",
    "donor_miss = df['Donor'].isnull().sum()\n",
    "print(\"The missing of dodnor is = \",donor_miss)"
   ]
  },
  {
   "cell_type": "code",
   "execution_count": 13,
   "id": "b931d34c",
   "metadata": {},
   "outputs": [],
   "source": [
    "df.dropna(subset=[2018], inplace=True)"
   ]
  },
  {
   "cell_type": "code",
   "execution_count": 14,
   "id": "e501dc4c",
   "metadata": {},
   "outputs": [
    {
     "data": {
      "text/plain": [
       "0"
      ]
     },
     "execution_count": 14,
     "metadata": {},
     "output_type": "execute_result"
    }
   ],
   "source": [
    "df[2018].isnull().sum()"
   ]
  },
  {
   "cell_type": "code",
   "execution_count": 15,
   "id": "992222d8",
   "metadata": {},
   "outputs": [
    {
     "data": {
      "text/plain": [
       "46"
      ]
     },
     "execution_count": 15,
     "metadata": {},
     "output_type": "execute_result"
    }
   ],
   "source": [
    "len(df[2018]) #recheck data after cleaned vs Total given data"
   ]
  },
  {
   "cell_type": "code",
   "execution_count": 16,
   "id": "30276f4a",
   "metadata": {},
   "outputs": [
    {
     "name": "stdout",
     "output_type": "stream",
     "text": [
      "\u001b[41mred\n",
      "\u001b[41mred\n",
      "\u001b[41mred\n",
      "\u001b[41mred\n",
      "\u001b[41mred\n",
      "\u001b[41mred\n",
      "\u001b[41mred\n",
      "\u001b[41mred\n",
      "\u001b[41mred\n",
      "\u001b[41mred\n",
      "\u001b[41mred\n",
      "\u001b[41mred\n",
      "\u001b[41mred\n",
      "\u001b[41mred\n",
      "\u001b[41mred\n",
      "\u001b[41mred\n",
      "\u001b[41mred\n",
      "\u001b[41mred\n",
      "\u001b[41mred\n",
      "\u001b[41mred\n",
      "\u001b[41mred\n",
      "\u001b[41mred\n",
      "\u001b[41mred\n",
      "\u001b[43myellow\n",
      "\u001b[43myellow\n",
      "\u001b[41mred\n",
      "\u001b[41mred\n",
      "\u001b[43myellow\n",
      "\u001b[43myellow\n",
      "\u001b[43myellow\n",
      "\u001b[41mred\n",
      "\u001b[41mred\n",
      "\u001b[43myellow\n",
      "\u001b[43myellow\n",
      "\u001b[41mred\n",
      "\u001b[41mred\n",
      "\u001b[41mred\n",
      "\u001b[43myellow\n",
      "\u001b[41mred\n",
      "\u001b[41mred\n",
      "\u001b[43myellow\n",
      "\u001b[41mred\n",
      "\u001b[41mred\n",
      "\u001b[41mred\n",
      "\u001b[41mred\n",
      "\u001b[41mred\n"
     ]
    }
   ],
   "source": [
    "#loop check & count color code\n",
    "data = df[2018]\n",
    "count_red_2018 = 0\n",
    "count_yellow_2018 = 0\n",
    "count_green_2018 = 0\n",
    "for i in data:\n",
    "    if 0 <= i <= 9.99:\n",
    "        print(Back.RED + \"red\")\n",
    "        count_red_2018 = count_red_2018 + 1\n",
    "    elif 10 <= i <= 19.99:\n",
    "        print(Back.YELLOW + \"yellow\")\n",
    "        count_yellow_2018 = count_yellow_2018 + 1\n",
    "    elif 20 <= i <= 28:\n",
    "        print(Back.GREEN + \"Green\")\n",
    "        count_green_2018 = count_green_2018 +1\n",
    "    else:\n",
    "        print(Back.BLACK + \"Error\")"
   ]
  },
  {
   "cell_type": "code",
   "execution_count": 17,
   "id": "67787b52",
   "metadata": {},
   "outputs": [
    {
     "name": "stdout",
     "output_type": "stream",
     "text": [
      "The number of red in 2018 =  37\n",
      "The number of yellow in 2018 =  9\n",
      "The number of green in 2018 =  0\n",
      "Total data 46\n"
     ]
    }
   ],
   "source": [
    "print(\"The number of red in 2018 = \",count_red_2018)\n",
    "print(\"The number of yellow in 2018 = \",count_yellow_2018)\n",
    "print(\"The number of green in 2018 = \",count_green_2018)\n",
    "print(\"Total data\",count_red_2018 + count_yellow_2018 + count_green_2018)"
   ]
  },
  {
   "cell_type": "markdown",
   "id": "93177d0c",
   "metadata": {},
   "source": [
    "# plot pie chart of 2018y"
   ]
  },
  {
   "cell_type": "code",
   "execution_count": 18,
   "id": "59c1c954",
   "metadata": {},
   "outputs": [
    {
     "data": {
      "image/png": "[encoded data removed]",
      "text/plain": [
       "<Figure size 432x288 with 1 Axes>"
      ]
     },
     "metadata": {},
     "output_type": "display_data"
    }
   ],
   "source": [
    "y = np.array([count_red_2018 ,count_yellow_2018 ,count_green_2018])\n",
    "graph_lebels = [\"red_2018\",\"yellow_2018\",\"green_2018\"]\n",
    "colors = ['red','yellow','green']\n",
    "myexplode = [0.2, 0.2 , 0.2]\n",
    "plt.pie(y, labels = graph_lebels, colors = colors, explode = myexplode, shadow =True,autopct='%1.2f%%')\n",
    "plt.legend(title = \"Ratio of color in 2018y\")\n",
    "plt.gca().set_aspect('equal')\n",
    "plt.gca().set_position([0.1, 0.1, 1.2, 1.2])\n",
    "plt.show()"
   ]
  },
  {
   "cell_type": "code",
   "execution_count": 19,
   "id": "dee69818",
   "metadata": {},
   "outputs": [],
   "source": [
    "df_2018 = pd.DataFrame([count_red_2018 ,count_yellow_2018 ,count_green_2018])"
   ]
  },
  {
   "cell_type": "code",
   "execution_count": 20,
   "id": "2b5f0138",
   "metadata": {},
   "outputs": [
    {
     "data": {
      "image/png": "[encoded data removed]",
      "text/plain": [
       "<Figure size 432x288 with 1 Axes>"
      ]
     },
     "metadata": {
      "needs_background": "light"
     },
     "output_type": "display_data"
    }
   ],
   "source": [
    "plt.plot(df_2018)\n",
    "plt.title('Line plot 2018y')\n",
    "plt.show()"
   ]
  },
  {
   "cell_type": "markdown",
   "id": "5c8100eb",
   "metadata": {},
   "source": [
    "# Cleaning Data 2019y"
   ]
  },
  {
   "cell_type": "code",
   "execution_count": 21,
   "id": "42553b6a",
   "metadata": {},
   "outputs": [
    {
     "data": {
      "text/plain": [
       "0      10.80\n",
       "1      12.83\n",
       "2      11.92\n",
       "3        NaN\n",
       "4       9.80\n",
       "5       8.80\n",
       "6        NaN\n",
       "7      13.80\n",
       "8       9.10\n",
       "9        NaN\n",
       "10      8.17\n",
       "11       NaN\n",
       "12       NaN\n",
       "13      7.20\n",
       "14       NaN\n",
       "15     13.17\n",
       "16      7.00\n",
       "17       NaN\n",
       "18       NaN\n",
       "19       NaN\n",
       "20     11.00\n",
       "21       NaN\n",
       "22     12.70\n",
       "23     15.10\n",
       "24       NaN\n",
       "25       NaN\n",
       "26       NaN\n",
       "27       NaN\n",
       "28     14.00\n",
       "29     14.00\n",
       "30       NaN\n",
       "31       NaN\n",
       "32     15.93\n",
       "33     13.00\n",
       "34     12.90\n",
       "35      8.80\n",
       "36       NaN\n",
       "37     11.80\n",
       "38     12.80\n",
       "39     12.80\n",
       "40       NaN\n",
       "44     12.70\n",
       "119      NaN\n",
       "132      NaN\n",
       "142      NaN\n",
       "149      NaN\n",
       "Name: 2019, dtype: float64"
      ]
     },
     "execution_count": 21,
     "metadata": {},
     "output_type": "execute_result"
    }
   ],
   "source": [
    "df[2019]"
   ]
  },
  {
   "cell_type": "code",
   "execution_count": 22,
   "id": "92adafbe",
   "metadata": {},
   "outputs": [
    {
     "data": {
      "text/html": [
       "<div>\n",
       "<style scoped>\n",
       "    .dataframe tbody tr th:only-of-type {\n",
       "        vertical-align: middle;\n",
       "    }\n",
       "\n",
       "    .dataframe tbody tr th {\n",
       "        vertical-align: top;\n",
       "    }\n",
       "\n",
       "    .dataframe thead th {\n",
       "        text-align: right;\n",
       "    }\n",
       "</style>\n",
       "<table border=\"1\" class=\"dataframe\">\n",
       "  <thead>\n",
       "    <tr style=\"text-align: right;\">\n",
       "      <th></th>\n",
       "      <th>Unnamed: 0</th>\n",
       "      <th>Family name</th>\n",
       "      <th>2018</th>\n",
       "      <th>2019</th>\n",
       "      <th>2020</th>\n",
       "      <th>2021</th>\n",
       "      <th>2022</th>\n",
       "      <th>2023</th>\n",
       "      <th>2024</th>\n",
       "      <th>2025</th>\n",
       "      <th>Donor</th>\n",
       "    </tr>\n",
       "  </thead>\n",
       "  <tbody>\n",
       "    <tr>\n",
       "      <th>0</th>\n",
       "      <td>180001</td>\n",
       "      <td>NGUYEN THI MY LINH</td>\n",
       "      <td>7.90</td>\n",
       "      <td>10.80</td>\n",
       "      <td>13.80</td>\n",
       "      <td>15.20</td>\n",
       "      <td>15.15</td>\n",
       "      <td>NaN</td>\n",
       "      <td>NaN</td>\n",
       "      <td>NaN</td>\n",
       "      <td>BS</td>\n",
       "    </tr>\n",
       "    <tr>\n",
       "      <th>1</th>\n",
       "      <td>180002</td>\n",
       "      <td>TRAN NGOC TUYEN</td>\n",
       "      <td>8.80</td>\n",
       "      <td>12.83</td>\n",
       "      <td>14.10</td>\n",
       "      <td>15.80</td>\n",
       "      <td>15.20</td>\n",
       "      <td>NaN</td>\n",
       "      <td>NaN</td>\n",
       "      <td>NaN</td>\n",
       "      <td>BS</td>\n",
       "    </tr>\n",
       "    <tr>\n",
       "      <th>2</th>\n",
       "      <td>180003</td>\n",
       "      <td>NGUYEN THANH TRUC</td>\n",
       "      <td>9.75</td>\n",
       "      <td>11.92</td>\n",
       "      <td>15.05</td>\n",
       "      <td>14.20</td>\n",
       "      <td>15.10</td>\n",
       "      <td>NaN</td>\n",
       "      <td>NaN</td>\n",
       "      <td>NaN</td>\n",
       "      <td>BS</td>\n",
       "    </tr>\n",
       "    <tr>\n",
       "      <th>3</th>\n",
       "      <td>180005</td>\n",
       "      <td>DANG THU THAO</td>\n",
       "      <td>8.90</td>\n",
       "      <td>NaN</td>\n",
       "      <td>NaN</td>\n",
       "      <td>NaN</td>\n",
       "      <td>NaN</td>\n",
       "      <td>NaN</td>\n",
       "      <td>NaN</td>\n",
       "      <td>NaN</td>\n",
       "      <td>BS</td>\n",
       "    </tr>\n",
       "    <tr>\n",
       "      <th>4</th>\n",
       "      <td>180006</td>\n",
       "      <td>TRAN THI DIEM</td>\n",
       "      <td>6.60</td>\n",
       "      <td>9.80</td>\n",
       "      <td>10.80</td>\n",
       "      <td>14.48</td>\n",
       "      <td>14.55</td>\n",
       "      <td>NaN</td>\n",
       "      <td>NaN</td>\n",
       "      <td>NaN</td>\n",
       "      <td>BS</td>\n",
       "    </tr>\n",
       "  </tbody>\n",
       "</table>\n",
       "</div>"
      ],
      "text/plain": [
       "   Unnamed: 0         Family name  2018   2019   2020   2021   2022  2023  \\\n",
       "0      180001  NGUYEN THI MY LINH  7.90  10.80  13.80  15.20  15.15   NaN   \n",
       "1      180002     TRAN NGOC TUYEN  8.80  12.83  14.10  15.80  15.20   NaN   \n",
       "2      180003   NGUYEN THANH TRUC  9.75  11.92  15.05  14.20  15.10   NaN   \n",
       "3      180005       DANG THU THAO  8.90    NaN    NaN    NaN    NaN   NaN   \n",
       "4      180006       TRAN THI DIEM  6.60   9.80  10.80  14.48  14.55   NaN   \n",
       "\n",
       "   2024  2025 Donor  \n",
       "0   NaN   NaN    BS  \n",
       "1   NaN   NaN    BS  \n",
       "2   NaN   NaN    BS  \n",
       "3   NaN   NaN    BS  \n",
       "4   NaN   NaN    BS  "
      ]
     },
     "execution_count": 22,
     "metadata": {},
     "output_type": "execute_result"
    }
   ],
   "source": [
    "#delete blank column for check the color code\n",
    "missing_value = ['n/a','-','--','na','NaN',''] \n",
    "df = pd.read_excel(r'C:\\Users\\panda\\OneDrive\\Desktop\\Bongsen\\remodeling.xlsx',sheet_name =\"Summation\",na_values = missing_value)\n",
    "df.head()"
   ]
  },
  {
   "cell_type": "code",
   "execution_count": 23,
   "id": "4a498302",
   "metadata": {},
   "outputs": [],
   "source": [
    "df.dropna(subset=[2019], inplace=True)"
   ]
  },
  {
   "cell_type": "code",
   "execution_count": 24,
   "id": "f06b987d",
   "metadata": {},
   "outputs": [
    {
     "data": {
      "text/plain": [
       "0"
      ]
     },
     "execution_count": 24,
     "metadata": {},
     "output_type": "execute_result"
    }
   ],
   "source": [
    "df[2019].isnull().sum()"
   ]
  },
  {
   "cell_type": "code",
   "execution_count": 25,
   "id": "157cd1c1",
   "metadata": {},
   "outputs": [
    {
     "data": {
      "text/plain": [
       "56"
      ]
     },
     "execution_count": 25,
     "metadata": {},
     "output_type": "execute_result"
    }
   ],
   "source": [
    "len(df[2019]) #recheck data after cleaned vs Total given data"
   ]
  },
  {
   "cell_type": "code",
   "execution_count": 26,
   "id": "646fc2f0",
   "metadata": {},
   "outputs": [
    {
     "name": "stdout",
     "output_type": "stream",
     "text": [
      "\u001b[43myellow\n",
      "\u001b[43myellow\n",
      "\u001b[43myellow\n",
      "\u001b[41mred\n",
      "\u001b[41mred\n",
      "\u001b[43myellow\n",
      "\u001b[41mred\n",
      "\u001b[41mred\n",
      "\u001b[41mred\n",
      "\u001b[43myellow\n",
      "\u001b[41mred\n",
      "\u001b[43myellow\n",
      "\u001b[43myellow\n",
      "\u001b[43myellow\n",
      "\u001b[43myellow\n",
      "\u001b[43myellow\n",
      "\u001b[43myellow\n",
      "\u001b[43myellow\n",
      "\u001b[43myellow\n",
      "\u001b[41mred\n",
      "\u001b[43myellow\n",
      "\u001b[43myellow\n",
      "\u001b[43myellow\n",
      "\u001b[43myellow\n",
      "\u001b[43myellow\n",
      "\u001b[43myellow\n",
      "\u001b[43myellow\n",
      "\u001b[43myellow\n",
      "\u001b[41mred\n",
      "\u001b[43myellow\n",
      "\u001b[41mred\n",
      "\u001b[43myellow\n",
      "\u001b[43myellow\n",
      "\u001b[41mred\n",
      "\u001b[43myellow\n",
      "\u001b[41mred\n",
      "\u001b[41mred\n",
      "\u001b[41mred\n",
      "\u001b[41mred\n",
      "\u001b[41mred\n",
      "\u001b[41mred\n",
      "\u001b[41mred\n",
      "\u001b[41mred\n",
      "\u001b[41mred\n",
      "\u001b[43myellow\n",
      "\u001b[41mred\n",
      "\u001b[41mred\n",
      "\u001b[41mred\n",
      "\u001b[43myellow\n",
      "\u001b[43myellow\n",
      "\u001b[41mred\n",
      "\u001b[41mred\n",
      "\u001b[43myellow\n",
      "\u001b[41mred\n",
      "\u001b[41mred\n",
      "\u001b[41mred\n"
     ]
    }
   ],
   "source": [
    "#loop check & count color code\n",
    "data = df[2019]\n",
    "count_red_2019 = 0\n",
    "count_yellow_2019 = 0\n",
    "count_green_2019 = 0\n",
    "for i in data:\n",
    "    if 0 <= i <= 9.99:\n",
    "        print(Back.RED + \"red\")\n",
    "        count_red_2019 = count_red_2019 + 1\n",
    "    elif 10 <= i <= 19.99:\n",
    "        print(Back.YELLOW + \"yellow\")\n",
    "        count_yellow_2019 = count_yellow_2019 + 1\n",
    "    elif 20 <= i <= 28:\n",
    "        print(Back.GREEN + \"Green\")\n",
    "        count_green_2019 = count_green_2019 +1\n",
    "    else:\n",
    "        print(Back.BLACK + \"Error\")\n"
   ]
  },
  {
   "cell_type": "code",
   "execution_count": 27,
   "id": "95ce1555",
   "metadata": {},
   "outputs": [],
   "source": [
    "#create new dataframe"
   ]
  },
  {
   "cell_type": "code",
   "execution_count": 28,
   "id": "8014e22c",
   "metadata": {},
   "outputs": [
    {
     "name": "stdout",
     "output_type": "stream",
     "text": [
      "The number of red in 2019 =  27\n",
      "The number of yellow in 2019 =  29\n",
      "The number of green in 2019 =  0\n",
      "Total data 56\n"
     ]
    }
   ],
   "source": [
    "print(\"The number of red in 2019 = \",count_red_2019)\n",
    "print(\"The number of yellow in 2019 = \",count_yellow_2019)\n",
    "print(\"The number of green in 2019 = \",count_green_2019)\n",
    "print(\"Total data\",count_red_2019 + count_yellow_2019 + count_green_2019)"
   ]
  },
  {
   "cell_type": "markdown",
   "id": "f94fac66",
   "metadata": {},
   "source": [
    "# plot pie chart of 2019y"
   ]
  },
  {
   "cell_type": "code",
   "execution_count": 29,
   "id": "598ff664",
   "metadata": {},
   "outputs": [
    {
     "data": {
      "image/png": "[encoded data removed]",
      "text/plain": [
       "<Figure size 432x288 with 1 Axes>"
      ]
     },
     "metadata": {},
     "output_type": "display_data"
    }
   ],
   "source": [
    "y = np.array([count_red_2019 ,count_yellow_2019 ,count_green_2019])\n",
    "graph_lebels = [\"red_2019\",\"yellow_2019\",\"green_2019\"]\n",
    "colors = ['red','yellow','green']\n",
    "myexplode = [0.2, 0.2 , 0.2]\n",
    "plt.pie(y, labels = graph_lebels, colors = colors, explode = myexplode, shadow =True,autopct='%1.2f%%')\n",
    "plt.legend(title = \"Ratio of color in 2019y\")\n",
    "plt.gca().set_aspect('equal')\n",
    "plt.gca().set_position([0.1, 0.1, 1.2, 1.2])\n",
    "plt.show()"
   ]
  },
  {
   "cell_type": "code",
   "execution_count": 30,
   "id": "c4cd7593",
   "metadata": {},
   "outputs": [],
   "source": [
    "df_2019 = pd.DataFrame([count_red_2019 ,count_yellow_2019 ,count_green_2019])"
   ]
  },
  {
   "cell_type": "code",
   "execution_count": 31,
   "id": "320bfc68",
   "metadata": {},
   "outputs": [
    {
     "data": {
      "image/png": "[encoded data removed]",
      "text/plain": [
       "<Figure size 432x288 with 1 Axes>"
      ]
     },
     "metadata": {
      "needs_background": "light"
     },
     "output_type": "display_data"
    }
   ],
   "source": [
    "plt.plot(df_2019)\n",
    "plt.title('Line plot 2019y')\n",
    "plt.show()"
   ]
  },
  {
   "cell_type": "markdown",
   "id": "7b3cbfff",
   "metadata": {},
   "source": [
    "# Cleaning Data 2020y"
   ]
  },
  {
   "cell_type": "code",
   "execution_count": 32,
   "id": "25e2fc58",
   "metadata": {},
   "outputs": [
    {
     "data": {
      "text/plain": [
       "0     13.80\n",
       "1     14.10\n",
       "2     15.05\n",
       "4     10.80\n",
       "5     10.80\n",
       "7     14.80\n",
       "8       NaN\n",
       "10     9.33\n",
       "13      NaN\n",
       "15    14.10\n",
       "16     7.10\n",
       "20    11.92\n",
       "22      NaN\n",
       "23    17.30\n",
       "28    16.00\n",
       "29    14.10\n",
       "32    17.08\n",
       "33    15.00\n",
       "34    18.00\n",
       "35    10.80\n",
       "37      NaN\n",
       "38    14.90\n",
       "39    15.80\n",
       "41      NaN\n",
       "43    18.00\n",
       "44      NaN\n",
       "45    13.28\n",
       "46    11.25\n",
       "47      NaN\n",
       "48    15.00\n",
       "49      NaN\n",
       "50    11.08\n",
       "51    15.17\n",
       "52      NaN\n",
       "53    16.10\n",
       "54      NaN\n",
       "55     7.90\n",
       "56      NaN\n",
       "57      NaN\n",
       "58      NaN\n",
       "59      NaN\n",
       "60      NaN\n",
       "61      NaN\n",
       "62      NaN\n",
       "63    14.10\n",
       "64    10.90\n",
       "65    11.10\n",
       "66     6.80\n",
       "67     9.20\n",
       "68    16.10\n",
       "69     8.30\n",
       "70    10.90\n",
       "71    14.20\n",
       "72    13.10\n",
       "73     7.80\n",
       "74    12.90\n",
       "Name: 2020, dtype: float64"
      ]
     },
     "execution_count": 32,
     "metadata": {},
     "output_type": "execute_result"
    }
   ],
   "source": [
    "df[2020]"
   ]
  },
  {
   "cell_type": "code",
   "execution_count": 33,
   "id": "19a6ba40",
   "metadata": {},
   "outputs": [
    {
     "data": {
      "text/html": [
       "<div>\n",
       "<style scoped>\n",
       "    .dataframe tbody tr th:only-of-type {\n",
       "        vertical-align: middle;\n",
       "    }\n",
       "\n",
       "    .dataframe tbody tr th {\n",
       "        vertical-align: top;\n",
       "    }\n",
       "\n",
       "    .dataframe thead th {\n",
       "        text-align: right;\n",
       "    }\n",
       "</style>\n",
       "<table border=\"1\" class=\"dataframe\">\n",
       "  <thead>\n",
       "    <tr style=\"text-align: right;\">\n",
       "      <th></th>\n",
       "      <th>Unnamed: 0</th>\n",
       "      <th>Family name</th>\n",
       "      <th>2018</th>\n",
       "      <th>2019</th>\n",
       "      <th>2020</th>\n",
       "      <th>2021</th>\n",
       "      <th>2022</th>\n",
       "      <th>2023</th>\n",
       "      <th>2024</th>\n",
       "      <th>2025</th>\n",
       "      <th>Donor</th>\n",
       "    </tr>\n",
       "  </thead>\n",
       "  <tbody>\n",
       "    <tr>\n",
       "      <th>0</th>\n",
       "      <td>180001</td>\n",
       "      <td>NGUYEN THI MY LINH</td>\n",
       "      <td>7.90</td>\n",
       "      <td>10.80</td>\n",
       "      <td>13.80</td>\n",
       "      <td>15.20</td>\n",
       "      <td>15.15</td>\n",
       "      <td>NaN</td>\n",
       "      <td>NaN</td>\n",
       "      <td>NaN</td>\n",
       "      <td>BS</td>\n",
       "    </tr>\n",
       "    <tr>\n",
       "      <th>1</th>\n",
       "      <td>180002</td>\n",
       "      <td>TRAN NGOC TUYEN</td>\n",
       "      <td>8.80</td>\n",
       "      <td>12.83</td>\n",
       "      <td>14.10</td>\n",
       "      <td>15.80</td>\n",
       "      <td>15.20</td>\n",
       "      <td>NaN</td>\n",
       "      <td>NaN</td>\n",
       "      <td>NaN</td>\n",
       "      <td>BS</td>\n",
       "    </tr>\n",
       "    <tr>\n",
       "      <th>2</th>\n",
       "      <td>180003</td>\n",
       "      <td>NGUYEN THANH TRUC</td>\n",
       "      <td>9.75</td>\n",
       "      <td>11.92</td>\n",
       "      <td>15.05</td>\n",
       "      <td>14.20</td>\n",
       "      <td>15.10</td>\n",
       "      <td>NaN</td>\n",
       "      <td>NaN</td>\n",
       "      <td>NaN</td>\n",
       "      <td>BS</td>\n",
       "    </tr>\n",
       "    <tr>\n",
       "      <th>3</th>\n",
       "      <td>180005</td>\n",
       "      <td>DANG THU THAO</td>\n",
       "      <td>8.90</td>\n",
       "      <td>NaN</td>\n",
       "      <td>NaN</td>\n",
       "      <td>NaN</td>\n",
       "      <td>NaN</td>\n",
       "      <td>NaN</td>\n",
       "      <td>NaN</td>\n",
       "      <td>NaN</td>\n",
       "      <td>BS</td>\n",
       "    </tr>\n",
       "    <tr>\n",
       "      <th>4</th>\n",
       "      <td>180006</td>\n",
       "      <td>TRAN THI DIEM</td>\n",
       "      <td>6.60</td>\n",
       "      <td>9.80</td>\n",
       "      <td>10.80</td>\n",
       "      <td>14.48</td>\n",
       "      <td>14.55</td>\n",
       "      <td>NaN</td>\n",
       "      <td>NaN</td>\n",
       "      <td>NaN</td>\n",
       "      <td>BS</td>\n",
       "    </tr>\n",
       "  </tbody>\n",
       "</table>\n",
       "</div>"
      ],
      "text/plain": [
       "   Unnamed: 0         Family name  2018   2019   2020   2021   2022  2023  \\\n",
       "0      180001  NGUYEN THI MY LINH  7.90  10.80  13.80  15.20  15.15   NaN   \n",
       "1      180002     TRAN NGOC TUYEN  8.80  12.83  14.10  15.80  15.20   NaN   \n",
       "2      180003   NGUYEN THANH TRUC  9.75  11.92  15.05  14.20  15.10   NaN   \n",
       "3      180005       DANG THU THAO  8.90    NaN    NaN    NaN    NaN   NaN   \n",
       "4      180006       TRAN THI DIEM  6.60   9.80  10.80  14.48  14.55   NaN   \n",
       "\n",
       "   2024  2025 Donor  \n",
       "0   NaN   NaN    BS  \n",
       "1   NaN   NaN    BS  \n",
       "2   NaN   NaN    BS  \n",
       "3   NaN   NaN    BS  \n",
       "4   NaN   NaN    BS  "
      ]
     },
     "execution_count": 33,
     "metadata": {},
     "output_type": "execute_result"
    }
   ],
   "source": [
    "#delete blank column for check the color code\n",
    "missing_value = ['n/a','-','--','na','NaN',''] \n",
    "df = pd.read_excel(r'C:\\Users\\panda\\OneDrive\\Desktop\\Bongsen\\remodeling.xlsx',sheet_name =\"Summation\",na_values = missing_value)\n",
    "df.head()"
   ]
  },
  {
   "cell_type": "code",
   "execution_count": 34,
   "id": "9bc9a0d2",
   "metadata": {},
   "outputs": [],
   "source": [
    "df.dropna(subset=[2020], inplace=True)"
   ]
  },
  {
   "cell_type": "code",
   "execution_count": 35,
   "id": "f7655af8",
   "metadata": {},
   "outputs": [
    {
     "data": {
      "text/plain": [
       "0"
      ]
     },
     "execution_count": 35,
     "metadata": {},
     "output_type": "execute_result"
    }
   ],
   "source": [
    "df[2020].isnull().sum()"
   ]
  },
  {
   "cell_type": "code",
   "execution_count": 36,
   "id": "22b98093",
   "metadata": {},
   "outputs": [
    {
     "data": {
      "text/plain": [
       "95"
      ]
     },
     "execution_count": 36,
     "metadata": {},
     "output_type": "execute_result"
    }
   ],
   "source": [
    "len(df[2020]) #recheck data after cleaned vs Total given data"
   ]
  },
  {
   "cell_type": "code",
   "execution_count": 37,
   "id": "ff3d6025",
   "metadata": {},
   "outputs": [
    {
     "name": "stdout",
     "output_type": "stream",
     "text": [
      "\u001b[43myellow\n",
      "\u001b[43myellow\n",
      "\u001b[43myellow\n",
      "\u001b[43myellow\n",
      "\u001b[43myellow\n",
      "\u001b[43myellow\n",
      "\u001b[41mred\n",
      "\u001b[43myellow\n",
      "\u001b[41mred\n",
      "\u001b[41mred\n",
      "\u001b[43myellow\n",
      "\u001b[43myellow\n",
      "\u001b[43myellow\n",
      "\u001b[43myellow\n",
      "\u001b[43myellow\n",
      "\u001b[43myellow\n",
      "\u001b[43myellow\n",
      "\u001b[43myellow\n",
      "\u001b[43myellow\n",
      "\u001b[43myellow\n",
      "\u001b[42mGreen\n",
      "\u001b[43myellow\n",
      "\u001b[43myellow\n",
      "\u001b[43myellow\n",
      "\u001b[43myellow\n",
      "\u001b[43myellow\n",
      "\u001b[43myellow\n",
      "\u001b[43myellow\n",
      "\u001b[41mred\n",
      "\u001b[43myellow\n",
      "\u001b[43myellow\n",
      "\u001b[43myellow\n",
      "\u001b[41mred\n",
      "\u001b[41mred\n",
      "\u001b[43myellow\n",
      "\u001b[41mred\n",
      "\u001b[43myellow\n",
      "\u001b[43myellow\n",
      "\u001b[43myellow\n",
      "\u001b[41mred\n",
      "\u001b[43myellow\n",
      "\u001b[41mred\n",
      "\u001b[43myellow\n",
      "\u001b[43myellow\n",
      "\u001b[43myellow\n",
      "\u001b[41mred\n",
      "\u001b[41mred\n",
      "\u001b[41mred\n",
      "\u001b[43myellow\n",
      "\u001b[41mred\n",
      "\u001b[43myellow\n",
      "\u001b[43myellow\n",
      "\u001b[43myellow\n",
      "\u001b[43myellow\n",
      "\u001b[43myellow\n",
      "\u001b[43myellow\n",
      "\u001b[43myellow\n",
      "\u001b[41mred\n",
      "\u001b[41mred\n",
      "\u001b[43myellow\n",
      "\u001b[41mred\n",
      "\u001b[41mred\n",
      "\u001b[43myellow\n",
      "\u001b[43myellow\n",
      "\u001b[43myellow\n",
      "\u001b[41mred\n",
      "\u001b[43myellow\n",
      "\u001b[43myellow\n",
      "\u001b[43myellow\n",
      "\u001b[41mred\n",
      "\u001b[43myellow\n",
      "\u001b[43myellow\n",
      "\u001b[43myellow\n",
      "\u001b[43myellow\n",
      "\u001b[43myellow\n",
      "\u001b[41mred\n",
      "\u001b[43myellow\n",
      "\u001b[43myellow\n",
      "\u001b[43myellow\n",
      "\u001b[41mred\n",
      "\u001b[41mred\n",
      "\u001b[41mred\n",
      "\u001b[41mred\n",
      "\u001b[43myellow\n",
      "\u001b[43myellow\n",
      "\u001b[41mred\n",
      "\u001b[41mred\n",
      "\u001b[41mred\n",
      "\u001b[43myellow\n",
      "\u001b[43myellow\n",
      "\u001b[43myellow\n",
      "\u001b[41mred\n",
      "\u001b[43myellow\n",
      "\u001b[43myellow\n",
      "\u001b[43myellow\n"
     ]
    }
   ],
   "source": [
    "#loop check & count color code\n",
    "data = df[2020]\n",
    "count_red_2020 = 0\n",
    "count_yellow_2020 = 0\n",
    "count_green_2020 = 0\n",
    "for i in data:\n",
    "    if 0 <= i <= 9.99:\n",
    "        print(Back.RED + \"red\")\n",
    "        count_red_2020 = count_red_2020 + 1\n",
    "    elif 10 <= i <= 19.99:\n",
    "        print(Back.YELLOW + \"yellow\")\n",
    "        count_yellow_2020 = count_yellow_2020 + 1\n",
    "    elif 20 <= i <= 28:\n",
    "        print(Back.GREEN + \"Green\")\n",
    "        count_green_2020 = count_green_2020 +1\n",
    "    else:\n",
    "        print(Back.BLACK + \"Error\")"
   ]
  },
  {
   "cell_type": "code",
   "execution_count": 38,
   "id": "c9f7002a",
   "metadata": {},
   "outputs": [
    {
     "name": "stdout",
     "output_type": "stream",
     "text": [
      "The number of red in 2020 =  28\n",
      "The number of yellow in 2020 =  66\n",
      "The number of green in 2020 =  1\n",
      "Total data 95\n"
     ]
    }
   ],
   "source": [
    "print(\"The number of red in 2020 = \",count_red_2020)\n",
    "print(\"The number of yellow in 2020 = \",count_yellow_2020)\n",
    "print(\"The number of green in 2020 = \",count_green_2020)\n",
    "print(\"Total data\",count_red_2020 + count_yellow_2020 + count_green_2020)"
   ]
  },
  {
   "cell_type": "markdown",
   "id": "9fff38a1",
   "metadata": {},
   "source": [
    "# plot pie chart of 2020y"
   ]
  },
  {
   "cell_type": "code",
   "execution_count": 39,
   "id": "86471034",
   "metadata": {},
   "outputs": [
    {
     "data": {
      "image/png": "[encoded data removed]",
      "text/plain": [
       "<Figure size 432x288 with 1 Axes>"
      ]
     },
     "metadata": {},
     "output_type": "display_data"
    }
   ],
   "source": [
    "y = np.array([count_red_2020 ,count_yellow_2020 ,count_green_2020])\n",
    "graph_lebels = [\"red_2020\",\"yellow_2020\",\"green_2020\"]\n",
    "colors = ['red','yellow','green']\n",
    "myexplode = [0.2, 0.2 , 0.2]\n",
    "plt.pie(y, labels = graph_lebels, colors = colors, explode = myexplode, shadow =True,autopct='%1.2f%%')\n",
    "plt.legend(title = \"Ratio of color in 2020y\")\n",
    "plt.gca().set_aspect('equal')\n",
    "plt.gca().set_position([0.2, 0.2, 1.2, 1.2])\n",
    "plt.show()"
   ]
  },
  {
   "cell_type": "code",
   "execution_count": 40,
   "id": "c4c9a7a2",
   "metadata": {},
   "outputs": [],
   "source": [
    "df_2020 = pd.DataFrame([count_red_2020 ,count_yellow_2020 ,count_green_2020])"
   ]
  },
  {
   "cell_type": "code",
   "execution_count": 41,
   "id": "634d0776",
   "metadata": {},
   "outputs": [
    {
     "data": {
      "image/png": "[encoded data removed]",
      "text/plain": [
       "<Figure size 432x288 with 1 Axes>"
      ]
     },
     "metadata": {
      "needs_background": "light"
     },
     "output_type": "display_data"
    }
   ],
   "source": [
    "plt.plot(df_2020)\n",
    "plt.title('Line plot 2020y')\n",
    "plt.show()"
   ]
  },
  {
   "cell_type": "markdown",
   "id": "bcd7dd62",
   "metadata": {},
   "source": [
    "# Cleaning Data 2021y"
   ]
  },
  {
   "cell_type": "code",
   "execution_count": 42,
   "id": "4354b44d",
   "metadata": {},
   "outputs": [
    {
     "data": {
      "text/plain": [
       "0      15.20\n",
       "1      15.80\n",
       "2      14.20\n",
       "4      14.48\n",
       "5       9.80\n",
       "       ...  \n",
       "124    14.10\n",
       "125    11.60\n",
       "126    16.20\n",
       "127      NaN\n",
       "128      NaN\n",
       "Name: 2021, Length: 95, dtype: float64"
      ]
     },
     "execution_count": 42,
     "metadata": {},
     "output_type": "execute_result"
    }
   ],
   "source": [
    "df[2021]"
   ]
  },
  {
   "cell_type": "code",
   "execution_count": 43,
   "id": "674a7ecb",
   "metadata": {},
   "outputs": [
    {
     "data": {
      "text/html": [
       "<div>\n",
       "<style scoped>\n",
       "    .dataframe tbody tr th:only-of-type {\n",
       "        vertical-align: middle;\n",
       "    }\n",
       "\n",
       "    .dataframe tbody tr th {\n",
       "        vertical-align: top;\n",
       "    }\n",
       "\n",
       "    .dataframe thead th {\n",
       "        text-align: right;\n",
       "    }\n",
       "</style>\n",
       "<table border=\"1\" class=\"dataframe\">\n",
       "  <thead>\n",
       "    <tr style=\"text-align: right;\">\n",
       "      <th></th>\n",
       "      <th>Unnamed: 0</th>\n",
       "      <th>Family name</th>\n",
       "      <th>2018</th>\n",
       "      <th>2019</th>\n",
       "      <th>2020</th>\n",
       "      <th>2021</th>\n",
       "      <th>2022</th>\n",
       "      <th>2023</th>\n",
       "      <th>2024</th>\n",
       "      <th>2025</th>\n",
       "      <th>Donor</th>\n",
       "    </tr>\n",
       "  </thead>\n",
       "  <tbody>\n",
       "    <tr>\n",
       "      <th>0</th>\n",
       "      <td>180001</td>\n",
       "      <td>NGUYEN THI MY LINH</td>\n",
       "      <td>7.90</td>\n",
       "      <td>10.80</td>\n",
       "      <td>13.80</td>\n",
       "      <td>15.20</td>\n",
       "      <td>15.15</td>\n",
       "      <td>NaN</td>\n",
       "      <td>NaN</td>\n",
       "      <td>NaN</td>\n",
       "      <td>BS</td>\n",
       "    </tr>\n",
       "    <tr>\n",
       "      <th>1</th>\n",
       "      <td>180002</td>\n",
       "      <td>TRAN NGOC TUYEN</td>\n",
       "      <td>8.80</td>\n",
       "      <td>12.83</td>\n",
       "      <td>14.10</td>\n",
       "      <td>15.80</td>\n",
       "      <td>15.20</td>\n",
       "      <td>NaN</td>\n",
       "      <td>NaN</td>\n",
       "      <td>NaN</td>\n",
       "      <td>BS</td>\n",
       "    </tr>\n",
       "    <tr>\n",
       "      <th>2</th>\n",
       "      <td>180003</td>\n",
       "      <td>NGUYEN THANH TRUC</td>\n",
       "      <td>9.75</td>\n",
       "      <td>11.92</td>\n",
       "      <td>15.05</td>\n",
       "      <td>14.20</td>\n",
       "      <td>15.10</td>\n",
       "      <td>NaN</td>\n",
       "      <td>NaN</td>\n",
       "      <td>NaN</td>\n",
       "      <td>BS</td>\n",
       "    </tr>\n",
       "    <tr>\n",
       "      <th>3</th>\n",
       "      <td>180005</td>\n",
       "      <td>DANG THU THAO</td>\n",
       "      <td>8.90</td>\n",
       "      <td>NaN</td>\n",
       "      <td>NaN</td>\n",
       "      <td>NaN</td>\n",
       "      <td>NaN</td>\n",
       "      <td>NaN</td>\n",
       "      <td>NaN</td>\n",
       "      <td>NaN</td>\n",
       "      <td>BS</td>\n",
       "    </tr>\n",
       "    <tr>\n",
       "      <th>4</th>\n",
       "      <td>180006</td>\n",
       "      <td>TRAN THI DIEM</td>\n",
       "      <td>6.60</td>\n",
       "      <td>9.80</td>\n",
       "      <td>10.80</td>\n",
       "      <td>14.48</td>\n",
       "      <td>14.55</td>\n",
       "      <td>NaN</td>\n",
       "      <td>NaN</td>\n",
       "      <td>NaN</td>\n",
       "      <td>BS</td>\n",
       "    </tr>\n",
       "  </tbody>\n",
       "</table>\n",
       "</div>"
      ],
      "text/plain": [
       "   Unnamed: 0         Family name  2018   2019   2020   2021   2022  2023  \\\n",
       "0      180001  NGUYEN THI MY LINH  7.90  10.80  13.80  15.20  15.15   NaN   \n",
       "1      180002     TRAN NGOC TUYEN  8.80  12.83  14.10  15.80  15.20   NaN   \n",
       "2      180003   NGUYEN THANH TRUC  9.75  11.92  15.05  14.20  15.10   NaN   \n",
       "3      180005       DANG THU THAO  8.90    NaN    NaN    NaN    NaN   NaN   \n",
       "4      180006       TRAN THI DIEM  6.60   9.80  10.80  14.48  14.55   NaN   \n",
       "\n",
       "   2024  2025 Donor  \n",
       "0   NaN   NaN    BS  \n",
       "1   NaN   NaN    BS  \n",
       "2   NaN   NaN    BS  \n",
       "3   NaN   NaN    BS  \n",
       "4   NaN   NaN    BS  "
      ]
     },
     "execution_count": 43,
     "metadata": {},
     "output_type": "execute_result"
    }
   ],
   "source": [
    "#delete blank column for check the color code\n",
    "missing_value = ['n/a','-','--','na','NaN',''] \n",
    "df = pd.read_excel(r'C:\\Users\\panda\\OneDrive\\Desktop\\Bongsen\\remodeling.xlsx',sheet_name =\"Summation\",na_values = missing_value)\n",
    "df.head()"
   ]
  },
  {
   "cell_type": "code",
   "execution_count": 44,
   "id": "6d219a24",
   "metadata": {},
   "outputs": [],
   "source": [
    "df.dropna(subset=[2021], inplace=True)"
   ]
  },
  {
   "cell_type": "code",
   "execution_count": 45,
   "id": "194c8aaa",
   "metadata": {},
   "outputs": [
    {
     "data": {
      "text/plain": [
       "0"
      ]
     },
     "execution_count": 45,
     "metadata": {},
     "output_type": "execute_result"
    }
   ],
   "source": [
    "df[2021].isnull().sum()"
   ]
  },
  {
   "cell_type": "code",
   "execution_count": 46,
   "id": "5a32e9ff",
   "metadata": {},
   "outputs": [
    {
     "data": {
      "text/plain": [
       "104"
      ]
     },
     "execution_count": 46,
     "metadata": {},
     "output_type": "execute_result"
    }
   ],
   "source": [
    "len(df[2021]) #recheck data after cleaned vs Total given data"
   ]
  },
  {
   "cell_type": "code",
   "execution_count": 47,
   "id": "83ca49c9",
   "metadata": {},
   "outputs": [
    {
     "name": "stdout",
     "output_type": "stream",
     "text": [
      "\u001b[43myellow\n",
      "\u001b[43myellow\n",
      "\u001b[43myellow\n",
      "\u001b[43myellow\n",
      "\u001b[41mred\n",
      "\u001b[43myellow\n",
      "\u001b[43myellow\n",
      "\u001b[43myellow\n",
      "\u001b[41mred\n",
      "\u001b[43myellow\n",
      "\u001b[41mred\n",
      "\u001b[41mred\n",
      "\u001b[43myellow\n",
      "\u001b[43myellow\n",
      "\u001b[43myellow\n",
      "\u001b[43myellow\n",
      "\u001b[43myellow\n",
      "\u001b[43myellow\n",
      "\u001b[43myellow\n",
      "\u001b[43myellow\n",
      "\u001b[43myellow\n",
      "\u001b[43myellow\n",
      "\u001b[43myellow\n",
      "\u001b[42mGreen\n",
      "\u001b[43myellow\n",
      "\u001b[43myellow\n",
      "\u001b[43myellow\n",
      "\u001b[43myellow\n",
      "\u001b[43myellow\n",
      "\u001b[42mGreen\n",
      "\u001b[41mred\n",
      "\u001b[43myellow\n",
      "\u001b[43myellow\n",
      "\u001b[43myellow\n",
      "\u001b[43myellow\n",
      "\u001b[43myellow\n",
      "\u001b[41mred\n",
      "\u001b[43myellow\n",
      "\u001b[43myellow\n",
      "\u001b[43myellow\n",
      "\u001b[41mred\n",
      "\u001b[43myellow\n",
      "\u001b[43myellow\n",
      "\u001b[43myellow\n",
      "\u001b[43myellow\n",
      "\u001b[43myellow\n",
      "\u001b[41mred\n",
      "\u001b[43myellow\n",
      "\u001b[43myellow\n",
      "\u001b[43myellow\n",
      "\u001b[41mred\n",
      "\u001b[43myellow\n",
      "\u001b[43myellow\n",
      "\u001b[43myellow\n",
      "\u001b[43myellow\n",
      "\u001b[43myellow\n",
      "\u001b[43myellow\n",
      "\u001b[43myellow\n",
      "\u001b[43myellow\n",
      "\u001b[41mred\n",
      "\u001b[41mred\n",
      "\u001b[43myellow\n",
      "\u001b[43myellow\n",
      "\u001b[43myellow\n",
      "\u001b[41mred\n",
      "\u001b[43myellow\n",
      "\u001b[43myellow\n",
      "\u001b[43myellow\n",
      "\u001b[43myellow\n",
      "\u001b[41mred\n",
      "\u001b[43myellow\n",
      "\u001b[43myellow\n",
      "\u001b[43myellow\n",
      "\u001b[43myellow\n",
      "\u001b[43myellow\n",
      "\u001b[41mred\n",
      "\u001b[43myellow\n",
      "\u001b[41mred\n",
      "\u001b[43myellow\n",
      "\u001b[43myellow\n",
      "\u001b[43myellow\n",
      "\u001b[41mred\n",
      "\u001b[43myellow\n",
      "\u001b[43myellow\n",
      "\u001b[43myellow\n",
      "\u001b[43myellow\n",
      "\u001b[43myellow\n",
      "\u001b[43myellow\n",
      "\u001b[41mred\n",
      "\u001b[41mred\n",
      "\u001b[43myellow\n",
      "\u001b[43myellow\n",
      "\u001b[41mred\n",
      "\u001b[43myellow\n",
      "\u001b[41mred\n",
      "\u001b[43myellow\n",
      "\u001b[43myellow\n",
      "\u001b[43myellow\n",
      "\u001b[43myellow\n",
      "\u001b[41mred\n",
      "\u001b[41mred\n",
      "\u001b[41mred\n",
      "\u001b[43myellow\n",
      "\u001b[43myellow\n"
     ]
    }
   ],
   "source": [
    "#loop check & count color code\n",
    "data = df[2021]\n",
    "count_red_2021 = 0\n",
    "count_yellow_2021 = 0\n",
    "count_green_2021 = 0\n",
    "for i in data:\n",
    "    if 0 <= i <= 9.99:\n",
    "        print(Back.RED + \"red\")\n",
    "        count_red_2021 = count_red_2021 + 1\n",
    "    elif 10 <= i <= 19.99:\n",
    "        print(Back.YELLOW + \"yellow\")\n",
    "        count_yellow_2021 = count_yellow_2021 + 1\n",
    "    elif 20 <= i <= 28:\n",
    "        print(Back.GREEN + \"Green\")\n",
    "        count_green_2021 = count_green_2021 +1\n",
    "    else:\n",
    "        print(Back.BLACK + \"Error\")"
   ]
  },
  {
   "cell_type": "code",
   "execution_count": 48,
   "id": "5369d634",
   "metadata": {},
   "outputs": [
    {
     "name": "stdout",
     "output_type": "stream",
     "text": [
      "The number of red in 2021 =  23\n",
      "The number of yellow in 2021 =  79\n",
      "The number of green in 2021 =  2\n",
      "Total data 104\n"
     ]
    }
   ],
   "source": [
    "print(\"The number of red in 2021 = \",count_red_2021)\n",
    "print(\"The number of yellow in 2021 = \",count_yellow_2021)\n",
    "print(\"The number of green in 2021 = \",count_green_2021)\n",
    "print(\"Total data\",count_red_2021 + count_yellow_2021 + count_green_2021)"
   ]
  },
  {
   "cell_type": "markdown",
   "id": "6328be8b",
   "metadata": {},
   "source": [
    "# plot pie chart of 2021y"
   ]
  },
  {
   "cell_type": "code",
   "execution_count": 49,
   "id": "33f3e5b1",
   "metadata": {},
   "outputs": [
    {
     "data": {
      "image/png": "[encoded data removed]",
      "text/plain": [
       "<Figure size 432x288 with 1 Axes>"
      ]
     },
     "metadata": {},
     "output_type": "display_data"
    }
   ],
   "source": [
    "y = np.array([count_red_2021 ,count_yellow_2021 ,count_green_2021])\n",
    "graph_lebels = [\"red_2021\",\"yellow_2021\",\"green_2021\"]\n",
    "colors = ['red','yellow','green']\n",
    "myexplode = [0.2, 0.2 , 0.2]\n",
    "plt.pie(y, labels = graph_lebels, colors = colors, explode = myexplode, shadow =True,autopct='%1.2f%%')\n",
    "plt.legend(title = \"Ratio of color in 2021y\")\n",
    "plt.gca().set_aspect('equal')\n",
    "plt.gca().set_position([0.1, 0.1, 1.2, 01.2])\n",
    "plt.show()"
   ]
  },
  {
   "cell_type": "code",
   "execution_count": 50,
   "id": "2ce40ae1",
   "metadata": {},
   "outputs": [],
   "source": [
    "df_2021 = pd.DataFrame([count_red_2021 ,count_yellow_2021 ,count_green_2021])"
   ]
  },
  {
   "cell_type": "code",
   "execution_count": 51,
   "id": "b8b88ac0",
   "metadata": {},
   "outputs": [
    {
     "data": {
      "image/png": "[encoded data removed]",
      "text/plain": [
       "<Figure size 432x288 with 1 Axes>"
      ]
     },
     "metadata": {
      "needs_background": "light"
     },
     "output_type": "display_data"
    }
   ],
   "source": [
    "plt.plot(df_2021)\n",
    "plt.title('Line plot 2021y')\n",
    "plt.show()"
   ]
  },
  {
   "cell_type": "markdown",
   "id": "dce2fdd3",
   "metadata": {},
   "source": [
    "# Cleaning Data 2022y"
   ]
  },
  {
   "cell_type": "code",
   "execution_count": 52,
   "id": "4f039094",
   "metadata": {},
   "outputs": [
    {
     "data": {
      "text/plain": [
       "0      15.15\n",
       "1      15.20\n",
       "2      15.10\n",
       "4      14.55\n",
       "5        NaN\n",
       "       ...  \n",
       "140    11.45\n",
       "141      NaN\n",
       "142    10.55\n",
       "143    14.80\n",
       "144      NaN\n",
       "Name: 2022, Length: 104, dtype: float64"
      ]
     },
     "execution_count": 52,
     "metadata": {},
     "output_type": "execute_result"
    }
   ],
   "source": [
    "df[2022]"
   ]
  },
  {
   "cell_type": "code",
   "execution_count": 53,
   "id": "2beefa7e",
   "metadata": {},
   "outputs": [
    {
     "data": {
      "text/html": [
       "<div>\n",
       "<style scoped>\n",
       "    .dataframe tbody tr th:only-of-type {\n",
       "        vertical-align: middle;\n",
       "    }\n",
       "\n",
       "    .dataframe tbody tr th {\n",
       "        vertical-align: top;\n",
       "    }\n",
       "\n",
       "    .dataframe thead th {\n",
       "        text-align: right;\n",
       "    }\n",
       "</style>\n",
       "<table border=\"1\" class=\"dataframe\">\n",
       "  <thead>\n",
       "    <tr style=\"text-align: right;\">\n",
       "      <th></th>\n",
       "      <th>Unnamed: 0</th>\n",
       "      <th>Family name</th>\n",
       "      <th>2018</th>\n",
       "      <th>2019</th>\n",
       "      <th>2020</th>\n",
       "      <th>2021</th>\n",
       "      <th>2022</th>\n",
       "      <th>2023</th>\n",
       "      <th>2024</th>\n",
       "      <th>2025</th>\n",
       "      <th>Donor</th>\n",
       "    </tr>\n",
       "  </thead>\n",
       "  <tbody>\n",
       "    <tr>\n",
       "      <th>0</th>\n",
       "      <td>180001</td>\n",
       "      <td>NGUYEN THI MY LINH</td>\n",
       "      <td>7.90</td>\n",
       "      <td>10.80</td>\n",
       "      <td>13.80</td>\n",
       "      <td>15.20</td>\n",
       "      <td>15.15</td>\n",
       "      <td>NaN</td>\n",
       "      <td>NaN</td>\n",
       "      <td>NaN</td>\n",
       "      <td>BS</td>\n",
       "    </tr>\n",
       "    <tr>\n",
       "      <th>1</th>\n",
       "      <td>180002</td>\n",
       "      <td>TRAN NGOC TUYEN</td>\n",
       "      <td>8.80</td>\n",
       "      <td>12.83</td>\n",
       "      <td>14.10</td>\n",
       "      <td>15.80</td>\n",
       "      <td>15.20</td>\n",
       "      <td>NaN</td>\n",
       "      <td>NaN</td>\n",
       "      <td>NaN</td>\n",
       "      <td>BS</td>\n",
       "    </tr>\n",
       "    <tr>\n",
       "      <th>2</th>\n",
       "      <td>180003</td>\n",
       "      <td>NGUYEN THANH TRUC</td>\n",
       "      <td>9.75</td>\n",
       "      <td>11.92</td>\n",
       "      <td>15.05</td>\n",
       "      <td>14.20</td>\n",
       "      <td>15.10</td>\n",
       "      <td>NaN</td>\n",
       "      <td>NaN</td>\n",
       "      <td>NaN</td>\n",
       "      <td>BS</td>\n",
       "    </tr>\n",
       "    <tr>\n",
       "      <th>3</th>\n",
       "      <td>180005</td>\n",
       "      <td>DANG THU THAO</td>\n",
       "      <td>8.90</td>\n",
       "      <td>NaN</td>\n",
       "      <td>NaN</td>\n",
       "      <td>NaN</td>\n",
       "      <td>NaN</td>\n",
       "      <td>NaN</td>\n",
       "      <td>NaN</td>\n",
       "      <td>NaN</td>\n",
       "      <td>BS</td>\n",
       "    </tr>\n",
       "    <tr>\n",
       "      <th>4</th>\n",
       "      <td>180006</td>\n",
       "      <td>TRAN THI DIEM</td>\n",
       "      <td>6.60</td>\n",
       "      <td>9.80</td>\n",
       "      <td>10.80</td>\n",
       "      <td>14.48</td>\n",
       "      <td>14.55</td>\n",
       "      <td>NaN</td>\n",
       "      <td>NaN</td>\n",
       "      <td>NaN</td>\n",
       "      <td>BS</td>\n",
       "    </tr>\n",
       "  </tbody>\n",
       "</table>\n",
       "</div>"
      ],
      "text/plain": [
       "   Unnamed: 0         Family name  2018   2019   2020   2021   2022  2023  \\\n",
       "0      180001  NGUYEN THI MY LINH  7.90  10.80  13.80  15.20  15.15   NaN   \n",
       "1      180002     TRAN NGOC TUYEN  8.80  12.83  14.10  15.80  15.20   NaN   \n",
       "2      180003   NGUYEN THANH TRUC  9.75  11.92  15.05  14.20  15.10   NaN   \n",
       "3      180005       DANG THU THAO  8.90    NaN    NaN    NaN    NaN   NaN   \n",
       "4      180006       TRAN THI DIEM  6.60   9.80  10.80  14.48  14.55   NaN   \n",
       "\n",
       "   2024  2025 Donor  \n",
       "0   NaN   NaN    BS  \n",
       "1   NaN   NaN    BS  \n",
       "2   NaN   NaN    BS  \n",
       "3   NaN   NaN    BS  \n",
       "4   NaN   NaN    BS  "
      ]
     },
     "execution_count": 53,
     "metadata": {},
     "output_type": "execute_result"
    }
   ],
   "source": [
    "#delete blank column for check the color code\n",
    "missing_value = ['n/a','-','--','na','NaN',''] \n",
    "df = pd.read_excel(r'C:\\Users\\panda\\OneDrive\\Desktop\\Bongsen\\remodeling.xlsx',sheet_name =\"Summation\",na_values = missing_value)\n",
    "df.head()"
   ]
  },
  {
   "cell_type": "code",
   "execution_count": 54,
   "id": "e5047aac",
   "metadata": {},
   "outputs": [],
   "source": [
    "df.dropna(subset=[2022], inplace=True)"
   ]
  },
  {
   "cell_type": "code",
   "execution_count": 55,
   "id": "79b6d606",
   "metadata": {},
   "outputs": [
    {
     "data": {
      "text/plain": [
       "0"
      ]
     },
     "execution_count": 55,
     "metadata": {},
     "output_type": "execute_result"
    }
   ],
   "source": [
    "df[2022].isnull().sum()"
   ]
  },
  {
   "cell_type": "code",
   "execution_count": 56,
   "id": "d9bcb765",
   "metadata": {},
   "outputs": [
    {
     "data": {
      "text/plain": [
       "122"
      ]
     },
     "execution_count": 56,
     "metadata": {},
     "output_type": "execute_result"
    }
   ],
   "source": [
    "len(df[2022]) #recheck data after cleaned vs Total given data"
   ]
  },
  {
   "cell_type": "code",
   "execution_count": 57,
   "id": "e06f0fb0",
   "metadata": {},
   "outputs": [
    {
     "name": "stdout",
     "output_type": "stream",
     "text": [
      "\u001b[43myellow\n",
      "\u001b[43myellow\n",
      "\u001b[43myellow\n",
      "\u001b[43myellow\n",
      "\u001b[43myellow\n",
      "\u001b[43myellow\n",
      "\u001b[43myellow\n",
      "\u001b[41mred\n",
      "\u001b[41mred\n",
      "\u001b[43myellow\n",
      "\u001b[43myellow\n",
      "\u001b[43myellow\n",
      "\u001b[41mred\n",
      "\u001b[43myellow\n",
      "\u001b[43myellow\n",
      "\u001b[43myellow\n",
      "\u001b[43myellow\n",
      "\u001b[43myellow\n",
      "\u001b[43myellow\n",
      "\u001b[41mred\n",
      "\u001b[43myellow\n",
      "\u001b[42mGreen\n",
      "\u001b[41mred\n",
      "\u001b[43myellow\n",
      "\u001b[43myellow\n",
      "\u001b[43myellow\n",
      "\u001b[43myellow\n",
      "\u001b[43myellow\n",
      "\u001b[43myellow\n",
      "\u001b[43myellow\n",
      "\u001b[43myellow\n",
      "\u001b[43myellow\n",
      "\u001b[43myellow\n",
      "\u001b[43myellow\n",
      "\u001b[41mred\n",
      "\u001b[43myellow\n",
      "\u001b[43myellow\n",
      "\u001b[41mred\n",
      "\u001b[43myellow\n",
      "\u001b[43myellow\n",
      "\u001b[43myellow\n",
      "\u001b[43myellow\n",
      "\u001b[43myellow\n",
      "\u001b[43myellow\n",
      "\u001b[43myellow\n",
      "\u001b[43myellow\n",
      "\u001b[41mred\n",
      "\u001b[41mred\n",
      "\u001b[43myellow\n",
      "\u001b[43myellow\n",
      "\u001b[43myellow\n",
      "\u001b[41mred\n",
      "\u001b[43myellow\n",
      "\u001b[43myellow\n",
      "\u001b[43myellow\n",
      "\u001b[43myellow\n",
      "\u001b[43myellow\n",
      "\u001b[43myellow\n",
      "\u001b[43myellow\n",
      "\u001b[43myellow\n",
      "\u001b[43myellow\n",
      "\u001b[41mred\n",
      "\u001b[43myellow\n",
      "\u001b[41mred\n",
      "\u001b[43myellow\n",
      "\u001b[43myellow\n",
      "\u001b[43myellow\n",
      "\u001b[41mred\n",
      "\u001b[43myellow\n",
      "\u001b[43myellow\n",
      "\u001b[43myellow\n",
      "\u001b[43myellow\n",
      "\u001b[43myellow\n",
      "\u001b[41mred\n",
      "\u001b[43myellow\n",
      "\u001b[43myellow\n",
      "\u001b[43myellow\n",
      "\u001b[43myellow\n",
      "\u001b[41mred\n",
      "\u001b[43myellow\n",
      "\u001b[43myellow\n",
      "\u001b[43myellow\n",
      "\u001b[43myellow\n",
      "\u001b[43myellow\n",
      "\u001b[43myellow\n",
      "\u001b[43myellow\n",
      "\u001b[43myellow\n",
      "\u001b[43myellow\n",
      "\u001b[41mred\n",
      "\u001b[41mred\n",
      "\u001b[41mred\n",
      "\u001b[41mred\n",
      "\u001b[41mred\n",
      "\u001b[41mred\n",
      "\u001b[43myellow\n",
      "\u001b[43myellow\n",
      "\u001b[41mred\n",
      "\u001b[43myellow\n",
      "\u001b[43myellow\n",
      "\u001b[43myellow\n",
      "\u001b[43myellow\n",
      "\u001b[43myellow\n",
      "\u001b[43myellow\n",
      "\u001b[41mred\n",
      "\u001b[43myellow\n",
      "\u001b[41mred\n",
      "\u001b[43myellow\n",
      "\u001b[43myellow\n",
      "\u001b[43myellow\n",
      "\u001b[41mred\n",
      "\u001b[43myellow\n",
      "\u001b[43myellow\n",
      "\u001b[41mred\n",
      "\u001b[43myellow\n",
      "\u001b[43myellow\n",
      "\u001b[41mred\n",
      "\u001b[43myellow\n",
      "\u001b[41mred\n",
      "\u001b[43myellow\n",
      "\u001b[41mred\n",
      "\u001b[41mred\n",
      "\u001b[41mred\n"
     ]
    }
   ],
   "source": [
    "#loop check & count color code\n",
    "data = df[2022]\n",
    "count_red_2022 = 0\n",
    "count_yellow_2022 = 0\n",
    "count_green_2022 = 0\n",
    "for i in data:\n",
    "    if 0 <= i <= 9.99:\n",
    "        print(Back.RED + \"red\")\n",
    "        count_red_2022 = count_red_2022 + 1\n",
    "    elif 10 <= i <= 19.99:\n",
    "        print(Back.YELLOW + \"yellow\")\n",
    "        count_yellow_2022 = count_yellow_2022 + 1\n",
    "    elif 20 <= i <= 28:\n",
    "        print(Back.GREEN + \"Green\")\n",
    "        count_green_2022 = count_green_2022 +1\n",
    "    else:\n",
    "        print(Back.BLACK + \"Error\")"
   ]
  },
  {
   "cell_type": "code",
   "execution_count": 58,
   "id": "bfa0252f",
   "metadata": {},
   "outputs": [
    {
     "name": "stdout",
     "output_type": "stream",
     "text": [
      "The number of red in 2022 =  31\n",
      "The number of yellow in 2022 =  90\n",
      "The number of green in 2022 =  1\n",
      "Total data 122\n"
     ]
    }
   ],
   "source": [
    "print(\"The number of red in 2022 = \",count_red_2022)\n",
    "print(\"The number of yellow in 2022 = \",count_yellow_2022)\n",
    "print(\"The number of green in 2022 = \",count_green_2022)\n",
    "print(\"Total data\",count_red_2022 + count_yellow_2022 + count_green_2022)"
   ]
  },
  {
   "cell_type": "markdown",
   "id": "8c2fbdb8",
   "metadata": {},
   "source": [
    "# plot pie chart of 2022y"
   ]
  },
  {
   "cell_type": "code",
   "execution_count": 59,
   "id": "aa9f8fac",
   "metadata": {},
   "outputs": [
    {
     "data": {
      "image/png": "[encoded data removed]",
      "text/plain": [
       "<Figure size 432x288 with 1 Axes>"
      ]
     },
     "metadata": {},
     "output_type": "display_data"
    }
   ],
   "source": [
    "y = np.array([count_red_2022 ,count_yellow_2022 ,count_green_2022])\n",
    "graph_lebels = [\"red_2022\",\"yellow_2022\",\"green_2022\"]\n",
    "colors = ['red','yellow','green']\n",
    "myexplode = [0.2, 0.2 , 0.2]\n",
    "plt.pie(y, labels = graph_lebels, colors = colors, explode = myexplode, shadow =True,autopct='%1.2f%%',labeldistance=1.2)\n",
    "plt.legend(title = \"Ratio of color in 2022y\")\n",
    "plt.gca().set_aspect('equal')\n",
    "plt.gca().set_position([0.1, 0.1, 1.2, 1.2])\n",
    "plt.show()"
   ]
  },
  {
   "cell_type": "code",
   "execution_count": 60,
   "id": "25b48f95",
   "metadata": {},
   "outputs": [],
   "source": [
    "df_2022 = pd.DataFrame([count_red_2022 ,count_yellow_2022 ,count_green_2022])"
   ]
  },
  {
   "cell_type": "code",
   "execution_count": 61,
   "id": "d7e3eb3a",
   "metadata": {},
   "outputs": [
    {
     "data": {
      "image/png": "[encoded data removed]",
      "text/plain": [
       "<Figure size 432x288 with 1 Axes>"
      ]
     },
     "metadata": {
      "needs_background": "light"
     },
     "output_type": "display_data"
    }
   ],
   "source": [
    "plt.plot(df_2022)\n",
    "plt.title('Line plot 2022y')\n",
    "plt.show()"
   ]
  },
  {
   "cell_type": "markdown",
   "id": "cbc2281f",
   "metadata": {},
   "source": [
    "# Cleaning Data 2023y"
   ]
  },
  {
   "cell_type": "code",
   "execution_count": 62,
   "id": "a18b9ad5",
   "metadata": {},
   "outputs": [
    {
     "data": {
      "text/plain": [
       "0       NaN\n",
       "1       NaN\n",
       "2       NaN\n",
       "4       NaN\n",
       "11     19.9\n",
       "       ... \n",
       "176     9.6\n",
       "177     NaN\n",
       "178    14.7\n",
       "179     8.8\n",
       "180     7.3\n",
       "Name: 2023, Length: 122, dtype: float64"
      ]
     },
     "execution_count": 62,
     "metadata": {},
     "output_type": "execute_result"
    }
   ],
   "source": [
    "df[2023]"
   ]
  },
  {
   "cell_type": "code",
   "execution_count": 63,
   "id": "71ce81ee",
   "metadata": {},
   "outputs": [
    {
     "data": {
      "text/html": [
       "<div>\n",
       "<style scoped>\n",
       "    .dataframe tbody tr th:only-of-type {\n",
       "        vertical-align: middle;\n",
       "    }\n",
       "\n",
       "    .dataframe tbody tr th {\n",
       "        vertical-align: top;\n",
       "    }\n",
       "\n",
       "    .dataframe thead th {\n",
       "        text-align: right;\n",
       "    }\n",
       "</style>\n",
       "<table border=\"1\" class=\"dataframe\">\n",
       "  <thead>\n",
       "    <tr style=\"text-align: right;\">\n",
       "      <th></th>\n",
       "      <th>Unnamed: 0</th>\n",
       "      <th>Family name</th>\n",
       "      <th>2018</th>\n",
       "      <th>2019</th>\n",
       "      <th>2020</th>\n",
       "      <th>2021</th>\n",
       "      <th>2022</th>\n",
       "      <th>2023</th>\n",
       "      <th>2024</th>\n",
       "      <th>2025</th>\n",
       "      <th>Donor</th>\n",
       "    </tr>\n",
       "  </thead>\n",
       "  <tbody>\n",
       "    <tr>\n",
       "      <th>0</th>\n",
       "      <td>180001</td>\n",
       "      <td>NGUYEN THI MY LINH</td>\n",
       "      <td>7.90</td>\n",
       "      <td>10.80</td>\n",
       "      <td>13.80</td>\n",
       "      <td>15.20</td>\n",
       "      <td>15.15</td>\n",
       "      <td>NaN</td>\n",
       "      <td>NaN</td>\n",
       "      <td>NaN</td>\n",
       "      <td>BS</td>\n",
       "    </tr>\n",
       "    <tr>\n",
       "      <th>1</th>\n",
       "      <td>180002</td>\n",
       "      <td>TRAN NGOC TUYEN</td>\n",
       "      <td>8.80</td>\n",
       "      <td>12.83</td>\n",
       "      <td>14.10</td>\n",
       "      <td>15.80</td>\n",
       "      <td>15.20</td>\n",
       "      <td>NaN</td>\n",
       "      <td>NaN</td>\n",
       "      <td>NaN</td>\n",
       "      <td>BS</td>\n",
       "    </tr>\n",
       "    <tr>\n",
       "      <th>2</th>\n",
       "      <td>180003</td>\n",
       "      <td>NGUYEN THANH TRUC</td>\n",
       "      <td>9.75</td>\n",
       "      <td>11.92</td>\n",
       "      <td>15.05</td>\n",
       "      <td>14.20</td>\n",
       "      <td>15.10</td>\n",
       "      <td>NaN</td>\n",
       "      <td>NaN</td>\n",
       "      <td>NaN</td>\n",
       "      <td>BS</td>\n",
       "    </tr>\n",
       "    <tr>\n",
       "      <th>3</th>\n",
       "      <td>180005</td>\n",
       "      <td>DANG THU THAO</td>\n",
       "      <td>8.90</td>\n",
       "      <td>NaN</td>\n",
       "      <td>NaN</td>\n",
       "      <td>NaN</td>\n",
       "      <td>NaN</td>\n",
       "      <td>NaN</td>\n",
       "      <td>NaN</td>\n",
       "      <td>NaN</td>\n",
       "      <td>BS</td>\n",
       "    </tr>\n",
       "    <tr>\n",
       "      <th>4</th>\n",
       "      <td>180006</td>\n",
       "      <td>TRAN THI DIEM</td>\n",
       "      <td>6.60</td>\n",
       "      <td>9.80</td>\n",
       "      <td>10.80</td>\n",
       "      <td>14.48</td>\n",
       "      <td>14.55</td>\n",
       "      <td>NaN</td>\n",
       "      <td>NaN</td>\n",
       "      <td>NaN</td>\n",
       "      <td>BS</td>\n",
       "    </tr>\n",
       "  </tbody>\n",
       "</table>\n",
       "</div>"
      ],
      "text/plain": [
       "   Unnamed: 0         Family name  2018   2019   2020   2021   2022  2023  \\\n",
       "0      180001  NGUYEN THI MY LINH  7.90  10.80  13.80  15.20  15.15   NaN   \n",
       "1      180002     TRAN NGOC TUYEN  8.80  12.83  14.10  15.80  15.20   NaN   \n",
       "2      180003   NGUYEN THANH TRUC  9.75  11.92  15.05  14.20  15.10   NaN   \n",
       "3      180005       DANG THU THAO  8.90    NaN    NaN    NaN    NaN   NaN   \n",
       "4      180006       TRAN THI DIEM  6.60   9.80  10.80  14.48  14.55   NaN   \n",
       "\n",
       "   2024  2025 Donor  \n",
       "0   NaN   NaN    BS  \n",
       "1   NaN   NaN    BS  \n",
       "2   NaN   NaN    BS  \n",
       "3   NaN   NaN    BS  \n",
       "4   NaN   NaN    BS  "
      ]
     },
     "execution_count": 63,
     "metadata": {},
     "output_type": "execute_result"
    }
   ],
   "source": [
    "#delete blank column for check the color code\n",
    "missing_value = ['n/a','-','--','na','NaN',''] \n",
    "df = pd.read_excel(r'C:\\Users\\panda\\OneDrive\\Desktop\\Bongsen\\remodeling.xlsx',sheet_name =\"Summation\",na_values = missing_value)\n",
    "df.head()"
   ]
  },
  {
   "cell_type": "code",
   "execution_count": 64,
   "id": "876e20b2",
   "metadata": {},
   "outputs": [],
   "source": [
    "df.dropna(subset=[2023], inplace=True)"
   ]
  },
  {
   "cell_type": "code",
   "execution_count": 65,
   "id": "edd9a6d8",
   "metadata": {},
   "outputs": [
    {
     "data": {
      "text/plain": [
       "0"
      ]
     },
     "execution_count": 65,
     "metadata": {},
     "output_type": "execute_result"
    }
   ],
   "source": [
    "df[2023].isnull().sum()"
   ]
  },
  {
   "cell_type": "code",
   "execution_count": 66,
   "id": "71490e9f",
   "metadata": {},
   "outputs": [
    {
     "data": {
      "text/plain": [
       "105"
      ]
     },
     "execution_count": 66,
     "metadata": {},
     "output_type": "execute_result"
    }
   ],
   "source": [
    "len(df[2023]) #recheck data after cleaned vs Total given data"
   ]
  },
  {
   "cell_type": "code",
   "execution_count": 67,
   "id": "518879be",
   "metadata": {},
   "outputs": [
    {
     "name": "stdout",
     "output_type": "stream",
     "text": [
      "\u001b[43myellow\n",
      "\u001b[43myellow\n",
      "\u001b[43myellow\n",
      "\u001b[43myellow\n",
      "\u001b[43myellow\n",
      "\u001b[43myellow\n",
      "\u001b[42mGreen\n",
      "\u001b[42mGreen\n",
      "\u001b[43myellow\n",
      "\u001b[43myellow\n",
      "\u001b[43myellow\n",
      "\u001b[41mred\n",
      "\u001b[43myellow\n",
      "\u001b[43myellow\n",
      "\u001b[43myellow\n",
      "\u001b[43myellow\n",
      "\u001b[43myellow\n",
      "\u001b[43myellow\n",
      "\u001b[43myellow\n",
      "\u001b[43myellow\n",
      "\u001b[41mred\n",
      "\u001b[43myellow\n",
      "\u001b[43myellow\n",
      "\u001b[43myellow\n",
      "\u001b[42mGreen\n",
      "\u001b[41mred\n",
      "\u001b[43myellow\n",
      "\u001b[43myellow\n",
      "\u001b[43myellow\n",
      "\u001b[43myellow\n",
      "\u001b[43myellow\n",
      "\u001b[43myellow\n",
      "\u001b[43myellow\n",
      "\u001b[43myellow\n",
      "\u001b[41mred\n",
      "\u001b[43myellow\n",
      "\u001b[43myellow\n",
      "\u001b[43myellow\n",
      "\u001b[43myellow\n",
      "\u001b[43myellow\n",
      "\u001b[43myellow\n",
      "\u001b[43myellow\n",
      "\u001b[43myellow\n",
      "\u001b[43myellow\n",
      "\u001b[43myellow\n",
      "\u001b[41mred\n",
      "\u001b[43myellow\n",
      "\u001b[43myellow\n",
      "\u001b[43myellow\n",
      "\u001b[43myellow\n",
      "\u001b[43myellow\n",
      "\u001b[43myellow\n",
      "\u001b[43myellow\n",
      "\u001b[43myellow\n",
      "\u001b[43myellow\n",
      "\u001b[43myellow\n",
      "\u001b[43myellow\n",
      "\u001b[43myellow\n",
      "\u001b[43myellow\n",
      "\u001b[43myellow\n",
      "\u001b[43myellow\n",
      "\u001b[43myellow\n",
      "\u001b[42mGreen\n",
      "\u001b[43myellow\n",
      "\u001b[43myellow\n",
      "\u001b[43myellow\n",
      "\u001b[43myellow\n",
      "\u001b[43myellow\n",
      "\u001b[43myellow\n",
      "\u001b[43myellow\n",
      "\u001b[43myellow\n",
      "\u001b[43myellow\n",
      "\u001b[43myellow\n",
      "\u001b[43myellow\n",
      "\u001b[41mred\n",
      "\u001b[43myellow\n",
      "\u001b[41mred\n",
      "\u001b[41mred\n",
      "\u001b[41mred\n",
      "\u001b[43myellow\n",
      "\u001b[43myellow\n",
      "\u001b[43myellow\n",
      "\u001b[43myellow\n",
      "\u001b[43myellow\n",
      "\u001b[43myellow\n",
      "\u001b[43myellow\n",
      "\u001b[43myellow\n",
      "\u001b[41mred\n",
      "\u001b[43myellow\n",
      "\u001b[43myellow\n",
      "\u001b[43myellow\n",
      "\u001b[41mred\n",
      "\u001b[43myellow\n",
      "\u001b[43myellow\n",
      "\u001b[43myellow\n",
      "\u001b[43myellow\n",
      "\u001b[41mred\n",
      "\u001b[43myellow\n",
      "\u001b[41mred\n",
      "\u001b[43myellow\n",
      "\u001b[43myellow\n",
      "\u001b[43myellow\n",
      "\u001b[43myellow\n",
      "\u001b[41mred\n",
      "\u001b[43myellow\n"
     ]
    }
   ],
   "source": [
    "#loop check & count color code\n",
    "data = df[2023]\n",
    "count_red_2023 = 0\n",
    "count_yellow_2023 = 0\n",
    "count_green_2023 = 0\n",
    "for i in data:\n",
    "    if 0 <= i <= 9.99:\n",
    "        print(Back.RED + \"red\")\n",
    "        count_red_2023 = count_red_2023 + 1\n",
    "    elif 10 <= i <= 19.99:\n",
    "        print(Back.YELLOW + \"yellow\")\n",
    "        count_yellow_2023 = count_yellow_2023 + 1\n",
    "    elif 20 <= i <= 28:\n",
    "        print(Back.GREEN + \"Green\")\n",
    "        count_green_2023 = count_green_2023 +1\n",
    "    else:\n",
    "        print(Back.BLACK + \"Error\")"
   ]
  },
  {
   "cell_type": "code",
   "execution_count": 68,
   "id": "a8223340",
   "metadata": {},
   "outputs": [
    {
     "name": "stdout",
     "output_type": "stream",
     "text": [
      "The number of red in 2023 =  14\n",
      "The number of yellow in 2023 =  87\n",
      "The number of green in 2023 =  4\n",
      "Total data 105\n"
     ]
    }
   ],
   "source": [
    "print(\"The number of red in 2023 = \",count_red_2023)\n",
    "print(\"The number of yellow in 2023 = \",count_yellow_2023)\n",
    "print(\"The number of green in 2023 = \",count_green_2023)\n",
    "print(\"Total data\",count_red_2023 + count_yellow_2023 + count_green_2023)"
   ]
  },
  {
   "cell_type": "markdown",
   "id": "345751e4",
   "metadata": {},
   "source": [
    "# plot pie chart of 2023y"
   ]
  },
  {
   "cell_type": "code",
   "execution_count": 69,
   "id": "2c9dd7ad",
   "metadata": {},
   "outputs": [
    {
     "data": {
      "image/png": "[encoded data removed]",
      "text/plain": [
       "<Figure size 432x288 with 1 Axes>"
      ]
     },
     "metadata": {},
     "output_type": "display_data"
    }
   ],
   "source": [
    "y = np.array([count_red_2023,count_yellow_2023,count_green_2023])\n",
    "graph_lebels = [\"red_2023\",\"yellow_2023\",\"green_2023\"]\n",
    "colors = ['red','yellow','green']\n",
    "myexplode = [0.2, 0.2 , 0.2]\n",
    "plt.pie(y, labels = graph_lebels, colors = colors, explode = myexplode, shadow =True,autopct='%1.2f%%',labeldistance=1.2)\n",
    "plt.legend(title = \"Ratio of color in 2023y\")\n",
    "plt.gca().set_aspect('equal')\n",
    "plt.gca().set_position([0.1, 0.1, 1.2, 1.2])\n",
    "plt.show()"
   ]
  },
  {
   "cell_type": "code",
   "execution_count": 70,
   "id": "b2a504f3",
   "metadata": {},
   "outputs": [],
   "source": [
    "df_2023 = pd.DataFrame([count_red_2023 ,count_yellow_2023 ,count_green_2023])"
   ]
  },
  {
   "cell_type": "code",
   "execution_count": 71,
   "id": "9632236f",
   "metadata": {},
   "outputs": [
    {
     "data": {
      "image/png": "[encoded data removed]",
      "text/plain": [
       "<Figure size 432x288 with 1 Axes>"
      ]
     },
     "metadata": {
      "needs_background": "light"
     },
     "output_type": "display_data"
    }
   ],
   "source": [
    "plt.plot(df_2023)\n",
    "plt.title('Line plot 2023y')\n",
    "plt.show()"
   ]
  },
  {
   "cell_type": "markdown",
   "id": "6391ae81",
   "metadata": {},
   "source": [
    "# Cleaning Data 2024y"
   ]
  },
  {
   "cell_type": "markdown",
   "id": "f592005b",
   "metadata": {},
   "source": [
    "continue.."
   ]
  },
  {
   "cell_type": "markdown",
   "id": "a528cd0f",
   "metadata": {},
   "source": [
    "# plot line chart all year"
   ]
  },
  {
   "cell_type": "code",
   "execution_count": 72,
   "id": "5bc1dba7",
   "metadata": {},
   "outputs": [],
   "source": [
    "df_red = [count_red_2018,count_red_2019,count_red_2020,count_red_2021,count_red_2022,count_red_2023]\n",
    "df_yellow = [count_yellow_2018,count_yellow_2019,count_yellow_2020,count_yellow_2021,count_yellow_2022,count_yellow_2023]\n",
    "df_green = [count_green_2018,count_green_2019,count_green_2020,count_green_2021,count_green_2022,count_green_2023]\n",
    "df_year = [2018,2019,2020,2021,2022,2023]"
   ]
  },
  {
   "cell_type": "code",
   "execution_count": 73,
   "id": "1f841adc",
   "metadata": {},
   "outputs": [
    {
     "data": {
      "text/plain": [
       "<Figure size 480x320 with 0 Axes>"
      ]
     },
     "metadata": {},
     "output_type": "display_data"
    }
   ],
   "source": [
    "fig = plt.figure(dpi=80)"
   ]
  },
  {
   "cell_type": "code",
   "execution_count": 74,
   "id": "1f12bf54",
   "metadata": {},
   "outputs": [],
   "source": [
    "axes = fig.add_axes([0,0,1,1]) #origin pont(0,0) high (1,1)"
   ]
  },
  {
   "cell_type": "code",
   "execution_count": 75,
   "id": "beddf109",
   "metadata": {},
   "outputs": [
    {
     "data": {
      "image/png": "[encoded data removed]",
      "text/plain": [
       "<Figure size 480x320 with 1 Axes>"
      ]
     },
     "execution_count": 75,
     "metadata": {},
     "output_type": "execute_result"
    }
   ],
   "source": [
    "fig"
   ]
  },
  {
   "cell_type": "code",
   "execution_count": 76,
   "id": "f5a0be6a",
   "metadata": {},
   "outputs": [
    {
     "data": {
      "text/plain": [
       "Text(0.5, 1.0, 'Line Chart of 3 colors')"
      ]
     },
     "execution_count": 76,
     "metadata": {},
     "output_type": "execute_result"
    }
   ],
   "source": [
    "# Plotting\n",
    "axes.plot(df_year, df_red, label='Red Scale', marker='o',color='red')\n",
    "axes.plot(df_year, df_yellow, label='Yellow Scale', marker='s',color='yellow')\n",
    "axes.plot(df_year, df_green, label='Green Scale', marker='^',color='green')\n",
    "axes.set_title('Line Chart of 3 colors')"
   ]
  },
  {
   "cell_type": "code",
   "execution_count": 77,
   "id": "1807d08f",
   "metadata": {},
   "outputs": [
    {
     "data": {
      "text/plain": [
       "<matplotlib.legend.Legend at 0x27fe4f358e0>"
      ]
     },
     "execution_count": 77,
     "metadata": {},
     "output_type": "execute_result"
    }
   ],
   "source": [
    "axes.legend()"
   ]
  },
  {
   "cell_type": "code",
   "execution_count": 78,
   "id": "c838c1b5",
   "metadata": {},
   "outputs": [
    {
     "data": {
      "image/png": "[encoded data removed]",
      "text/plain": [
       "<Figure size 480x320 with 1 Axes>"
      ]
     },
     "execution_count": 78,
     "metadata": {},
     "output_type": "execute_result"
    }
   ],
   "source": [
    "fig"
   ]
  },
  {
   "cell_type": "markdown",
   "id": "51d21ce0",
   "metadata": {},
   "source": [
    "# Further Apply Predict the Number of Color Next Year"
   ]
  },
  {
   "cell_type": "markdown",
   "id": "243f2aea",
   "metadata": {},
   "source": [
    "if the absolute R-Square is in the range 0.70 to 1.00 \n",
    "we can identify that x and y have a linear regression relationship"
   ]
  },
  {
   "cell_type": "markdown",
   "id": "8cb7ebe0",
   "metadata": {},
   "source": [
    "Red Prediction"
   ]
  },
  {
   "cell_type": "code",
   "execution_count": 101,
   "id": "671726b7",
   "metadata": {},
   "outputs": [
    {
     "data": {
      "image/png": "[encoded data removed]",
      "text/plain": [
       "<Figure size 432x288 with 1 Axes>"
      ]
     },
     "metadata": {
      "needs_background": "light"
     },
     "output_type": "display_data"
    }
   ],
   "source": [
    "x_red = [2018,2019,2020,2021,2022,2023]\n",
    "y_red = [count_red_2018,count_red_2019,count_red_2020,count_red_2021,count_red_2022,count_red_2023]\n",
    "\n",
    "slope, intercept, r, p, std_err = stats.linregress(x_red, y_red)\n",
    "\n",
    "def myfunc(x_red):\n",
    "  return slope * x_red + intercept #y = mx+c\n",
    "\n",
    "mymodel = list(map(myfunc, x_red))\n",
    "\n",
    "#plot graph\n",
    "plt.scatter(x_red, y_red)\n",
    "plt.plot(x_red, mymodel,marker='o',color='red')\n",
    "plt.show()"
   ]
  },
  {
   "cell_type": "code",
   "execution_count": 102,
   "id": "23c20307",
   "metadata": {},
   "outputs": [
    {
     "name": "stdout",
     "output_type": "stream",
     "text": [
      "-0.7436201469046058\n"
     ]
    }
   ],
   "source": [
    "#define R-Square\n",
    "slope, intercept, r, p, std_err = stats.linregress(x_red, y_red)\n",
    "print(r)"
   ]
  },
  {
   "cell_type": "code",
   "execution_count": 106,
   "id": "a6eb1bf1",
   "metadata": {},
   "outputs": [
    {
     "name": "stdout",
     "output_type": "stream",
     "text": [
      "15.87\n",
      "12.78\n",
      "9.70\n"
     ]
    }
   ],
   "source": [
    "#predict\n",
    "y_red_2024 = myfunc(2024)\n",
    "print('%.2f' %(y_red_2024))\n",
    "\n",
    "y_red_2025 = myfunc(2025)\n",
    "print('%.2f' %(y_red_2025))\n",
    "\n",
    "y_red_2026 = myfunc(2026)\n",
    "print('%.2f' %(y_red_2026))"
   ]
  },
  {
   "cell_type": "markdown",
   "id": "31609ff4",
   "metadata": {},
   "source": [
    "Yellow Prediction"
   ]
  },
  {
   "cell_type": "code",
   "execution_count": 107,
   "id": "725ba644",
   "metadata": {},
   "outputs": [
    {
     "data": {
      "image/png": "[encoded data removed]",
      "text/plain": [
       "<Figure size 432x288 with 1 Axes>"
      ]
     },
     "metadata": {
      "needs_background": "light"
     },
     "output_type": "display_data"
    }
   ],
   "source": [
    "x_yellow = [2018,2019,2020,2021,2022,2023]\n",
    "y_yellow = [count_yellow_2018,count_yellow_2019,count_yellow_2020,count_yellow_2021,count_yellow_2022,count_yellow_2023]\n",
    "\n",
    "slope, intercept, r, p, std_err = stats.linregress(x_yellow, y_yellow)\n",
    "\n",
    "def myfunc(x_yellow):\n",
    "  return slope * x_yellow + intercept #y = mx+c\n",
    "\n",
    "mymodel = list(map(myfunc, x_yellow))\n",
    "\n",
    "#plot graph\n",
    "plt.scatter(x_yellow, y_yellow)\n",
    "plt.plot(x_yellow, mymodel, marker='s',color='yellow')\n",
    "plt.show()"
   ]
  },
  {
   "cell_type": "code",
   "execution_count": 108,
   "id": "aee20a13",
   "metadata": {},
   "outputs": [
    {
     "name": "stdout",
     "output_type": "stream",
     "text": [
      "0.9369585903008969\n"
     ]
    }
   ],
   "source": [
    "#define R-Square\n",
    "slope, intercept, r, p, std_err = stats.linregress(x_yellow, y_yellow)\n",
    "print(r)"
   ]
  },
  {
   "cell_type": "code",
   "execution_count": 109,
   "id": "99db7a75",
   "metadata": {},
   "outputs": [
    {
     "name": "stdout",
     "output_type": "stream",
     "text": [
      "118.60\n",
      "135.34\n",
      "152.09\n"
     ]
    }
   ],
   "source": [
    "#predict\n",
    "y_yellow_2024 = myfunc(2024)\n",
    "print('%.2f' %(y_yellow_2024))\n",
    "\n",
    "y_yellow_2025 = myfunc(2025)\n",
    "print('%.2f' %(y_yellow_2025))\n",
    "\n",
    "y_yellow_2026 = myfunc(2026)\n",
    "print('%.2f' %(y_yellow_2026))"
   ]
  },
  {
   "cell_type": "markdown",
   "id": "af325b6f",
   "metadata": {},
   "source": [
    "Green Prediction"
   ]
  },
  {
   "cell_type": "code",
   "execution_count": 110,
   "id": "7a4c6117",
   "metadata": {},
   "outputs": [
    {
     "data": {
      "image/png": "[encoded data removed]",
      "text/plain": [
       "<Figure size 432x288 with 1 Axes>"
      ]
     },
     "metadata": {
      "needs_background": "light"
     },
     "output_type": "display_data"
    }
   ],
   "source": [
    "x_green = [2018,2019,2020,2021,2022,2023]\n",
    "y_green = [count_green_2018,count_green_2019,count_green_2020,count_green_2021,count_green_2022,count_green_2023]\n",
    "\n",
    "slope, intercept, r, p, std_err = stats.linregress(x_green , y_green)\n",
    "\n",
    "def myfunc(x_green) :\n",
    "  return slope * x_green  + intercept #y = mx+c\n",
    "\n",
    "mymodel = list(map(myfunc, x_green ))\n",
    "\n",
    "#plot graph\n",
    "plt.scatter(x_green , y_green)\n",
    "plt.plot(x_green , mymodel, marker='^',color='green')\n",
    "plt.show()"
   ]
  },
  {
   "cell_type": "code",
   "execution_count": 111,
   "id": "ccab2bba",
   "metadata": {},
   "outputs": [
    {
     "name": "stdout",
     "output_type": "stream",
     "text": [
      "0.8520859229960717\n"
     ]
    }
   ],
   "source": [
    "#define R-Square\n",
    "slope, intercept, r, p, std_err = stats.linregress(x_green, y_green)\n",
    "print(r)"
   ]
  },
  {
   "cell_type": "code",
   "execution_count": 114,
   "id": "b5837983",
   "metadata": {},
   "outputs": [
    {
     "name": "stdout",
     "output_type": "stream",
     "text": [
      "3.73\n",
      "4.42\n",
      "5.10\n"
     ]
    }
   ],
   "source": [
    "#predict 2024y\n",
    "y_green_2024 = myfunc(2024)\n",
    "print('%.2f' %(y_green_2024))\n",
    "\n",
    "y_green_2025 = myfunc(2025)\n",
    "print('%.2f' %(y_green_2025))\n",
    "\n",
    "y_green_2026 = myfunc(2026)\n",
    "print('%.2f' %(y_green_2026))"
   ]
  },
  {
   "cell_type": "markdown",
   "id": "515ab199",
   "metadata": {},
   "source": [
    "# Plot Predict Chart"
   ]
  },
  {
   "cell_type": "code",
   "execution_count": 123,
   "id": "4d932ea2",
   "metadata": {},
   "outputs": [
    {
     "data": {
      "image/png": "[encoded data removed]",
      "text/plain": [
       "<Figure size 3000x450 with 3 Axes>"
      ]
     },
     "metadata": {
      "needs_background": "light"
     },
     "output_type": "display_data"
    }
   ],
   "source": [
    "fig , axes = plt.subplots(nrows=1, ncols=3)\n",
    "fig.set_size_inches(20,3)\n",
    "fig.set_dpi(150)"
   ]
  },
  {
   "cell_type": "code",
   "execution_count": 124,
   "id": "29683252",
   "metadata": {},
   "outputs": [
    {
     "data": {
      "text/plain": [
       "Text(1647.843137254902, 0.5, 'The number of green color')"
      ]
     },
     "execution_count": 124,
     "metadata": {},
     "output_type": "execute_result"
    }
   ],
   "source": [
    "#plot the trend\n",
    "df_year = [2018,2019,2020,2021,2022,2023]\n",
    "df_red = [count_red_2018,count_red_2019,count_red_2020,count_red_2021,count_red_2022,count_red_2023]\n",
    "df_yellow = [count_yellow_2018,count_yellow_2019,count_yellow_2020,count_yellow_2021,count_yellow_2022,count_yellow_2023]\n",
    "df_green = [count_green_2018,count_green_2019,count_green_2020,count_green_2021,count_green_2022,count_green_2023]\n",
    "df_year_predict = [2023,2024,2025,2026]\n",
    "df_red_predict = [count_red_2023,y_red_2024,y_red_2025,y_red_2026]\n",
    "df_yellow_predict = [count_yellow_2023,y_yellow_2024,y_yellow_2025,y_yellow_2026]\n",
    "df_green_predict = [count_green_2023,y_green_2024,y_green_2025,y_green_2026]\n",
    "\n",
    "#red\n",
    "axes[0].plot(df_year,df_red,marker='o',color='red')\n",
    "axes[0].plot(df_year_predict,df_red_predict,marker='o',color='#7d3f98')\n",
    "axes[0].set_title('Red Trend Prediction')\n",
    "axes[0].set_xlabel('Year')\n",
    "axes[0].set_ylabel('The number of red color')\n",
    "\n",
    "#yellow\n",
    "axes[1].plot(df_year,df_yellow,marker='s',color='yellow')\n",
    "axes[1].plot(df_year_predict,df_yellow_predict,marker='s',color='#00bce4')\n",
    "axes[1].set_title('Yellow Trend Prediction')\n",
    "axes[1].set_xlabel('Year')\n",
    "axes[1].set_ylabel('The number of yellow color')\n",
    "\n",
    "#green\n",
    "axes[2].plot(df_year,df_green,marker='^',color='green')\n",
    "axes[2].plot(df_year_predict,df_green_predict,marker='^',color='#e5a9a9')\n",
    "axes[2].set_title('Green Trend Prediction')\n",
    "axes[2].set_xlabel('Year')\n",
    "axes[2].set_ylabel('The number of green color')"
   ]
  },
  {
   "cell_type": "code",
   "execution_count": 125,
   "id": "23b731fc",
   "metadata": {},
   "outputs": [
    {
     "data": {
      "image/png": "[encoded data removed]",
      "text/plain": [
       "<Figure size 3000x450 with 3 Axes>"
      ]
     },
     "execution_count": 125,
     "metadata": {},
     "output_type": "execute_result"
    }
   ],
   "source": [
    "fig"
   ]
  },
  {
   "cell_type": "code",
   "execution_count": null,
   "id": "b62d539c",
   "metadata": {},
   "outputs": [],
   "source": []
  }
 ],
 "metadata": {
  "kernelspec": {
   "display_name": "Python 3",
   "language": "python",
   "name": "python3"
  },
  "language_info": {
   "codemirror_mode": {
    "name": "ipython",
    "version": 3
   },
   "file_extension": ".py",
   "mimetype": "text/x-python",
   "name": "python",
   "nbconvert_exporter": "python",
   "pygments_lexer": "ipython3",
   "version": "3.8.8"
  }
 },
 "nbformat": 4,
 "nbformat_minor": 5
}
